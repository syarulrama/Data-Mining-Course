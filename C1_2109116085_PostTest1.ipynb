{
  "nbformat": 4,
  "nbformat_minor": 0,
  "metadata": {
    "colab": {
      "provenance": [],
      "include_colab_link": true
    },
    "kernelspec": {
      "name": "python3",
      "display_name": "Python 3"
    },
    "language_info": {
      "name": "python"
    }
  },
  "cells": [
    {
      "cell_type": "markdown",
      "metadata": {
        "id": "view-in-github",
        "colab_type": "text"
      },
      "source": [
        "<a href=\"https://colab.research.google.com/github/syarulrama/Data-Mining-Course/blob/main/C1_2109116085_PostTest1.ipynb\" target=\"_parent\"><img src=\"https://colab.research.google.com/assets/colab-badge.svg\" alt=\"Open In Colab\"/></a>"
      ]
    },
    {
      "cell_type": "markdown",
      "source": [
        "<h1>Posttest Praktikum Sistem Informasi </h1>\n",
        "\n",
        "NIM **2109116085**\n",
        "\n",
        "NAMA **Syahrul Ramadhana**\n",
        "\n",
        "> Kerjakanlah tugas berikut berdasarkan instruksi yang diberkan. Kumpulkanlah hasil posttest ini pada Github dengan mengumpulkan link repository kalian.\n",
        "\n",
        "Disini ada dua jenis tugas.\n",
        "\n",
        "1. Visualisasi\n",
        "2. Penerapan Algoritma Naive Bayes\n",
        "\n",
        "\n",
        "Ketentuan pengumpulan tugas :\n",
        "1. Kumpul Tugas ini dengan Format Kelas_NIM_Posttest 1.ipynb\n",
        "2. Kumpulkan dalam bentuk link repository github\n",
        "3. Berikan penjelasan untuk setiap blok kode dengan membuat text atau comment pada kodingan\n",
        "4. Untuk bagian penjelasan gausa terlalu panjang. \n",
        "singkat padat dan jelas\n",
        "\n",
        "\n"
      ],
      "metadata": {
        "id": "W-uS6_66tbij"
      }
    },
    {
      "cell_type": "markdown",
      "source": [
        "## Business Understanding & Data Understanding"
      ],
      "metadata": {
        "id": "m2edIZ4Rzj_Y"
      }
    },
    {
      "cell_type": "markdown",
      "source": [
        "Importlah pandas, seaborn, dan plotly\n",
        "\n",
        "Download dataset dari link ini [**Link Dataset**](https://github.com/fnikolas-r/Data-Mining-Course/blob/main/Pertemuan%202/ChurnBank.csv)\n",
        "\n",
        "\n",
        "\n",
        "\n",
        "Kemudian taruhlah dalam sebuah variabel bernama df\n",
        "\n",
        "\n",
        "*note: kalian dapat menambah blok yang ada*"
      ],
      "metadata": {
        "id": "wxyi84yY7Lla"
      }
    },
    {
      "cell_type": "code",
      "execution_count": 48,
      "metadata": {
        "id": "gxbjtLI5s8pn"
      },
      "outputs": [],
      "source": [
        "# Buatlah datasetnya disini\n",
        "import pandas as pd\n",
        "import statistics\n",
        "import seaborn as sns\n",
        "\n",
        "df = pd.read_csv(\"ChurnBank.csv\")"
      ]
    },
    {
      "cell_type": "markdown",
      "source": [
        "### Business Understanding\n",
        "\n",
        "**1. Tujuan dataset** : Tujuan dari penggunaan dataset dengan algoritma Naive Bayes adalah untuk melakukan klasifikasi atau prediksi berdasarkan data input yang diberikan. Algoritma ini dapat menghasilkan model klasifikasi yang efiesien dan mudah dipahami, serta dapat digunakan dalam berbagai aplikasi seperti deteksi spam, klasifikasi dokumen, dan analisis sentimen. Naive Bayes juga sangat efektif dalam mengolah data besar dan membutuhkan sedikit waktu dan sumber daya komputasi untuk diimplementasikan\n",
        "\n",
        "**2. Tujuan Penggunaan Naive Bayes** : Metode Naive Bayes ini merupakan sebuah metode yang menggunakan pengklasifikasian sebuah data untuk asumsi sebuah variabel. Pengunaan Naive Bayes ini tingkat error sebuah data bisa dibilang cukup rendah terlebih pada sebuah data besar dalam perusahaan. Dan juga Naive Bayes dianggap memiliki kecepatan dataset yang cukup tinggi\n"
      ],
      "metadata": {
        "id": "4zonMQ5M9OxL"
      }
    },
    {
      "cell_type": "code",
      "source": [
        "df"
      ],
      "metadata": {
        "colab": {
          "base_uri": "https://localhost:8080/",
          "height": 1000
        },
        "id": "zN8kbHI9_O8M",
        "outputId": "990f235c-e970-4399-ee8c-9231023343f0"
      },
      "execution_count": 33,
      "outputs": [
        {
          "output_type": "execute_result",
          "data": {
            "text/plain": [
              "    Unnamed: 0  CLIENTNUM     Attrition_Flag  Customer_Age Gender  \\\n",
              "0         6036  720010608  Attrited Customer            37      M   \n",
              "1         6684  711323283  Attrited Customer            57      M   \n",
              "2         4272  794707083  Attrited Customer            50      M   \n",
              "3         9759  709657533  Attrited Customer            44      M   \n",
              "4         4740  716625033  Attrited Customer            32      F   \n",
              "5         9597  715076358  Attrited Customer            57      M   \n",
              "6         5009  804829533  Attrited Customer            59      M   \n",
              "7         8200  712144158  Attrited Customer            53      F   \n",
              "8         5016  795599883  Attrited Customer            57      F   \n",
              "9         8350  709222008  Attrited Customer            41      M   \n",
              "10        8139  809844108  Existing Customer            48      M   \n",
              "11         176  716264358  Existing Customer            53      M   \n",
              "12        8020  778163508  Existing Customer            37      F   \n",
              "13         357  711857733  Existing Customer            49      M   \n",
              "14        6562  720070383  Existing Customer            41      F   \n",
              "15        4563  809809008  Existing Customer            47      F   \n",
              "16       10084  718161708  Existing Customer            46      F   \n",
              "17        5725  771079833  Existing Customer            40      F   \n",
              "18        2587  711639708  Existing Customer            42      M   \n",
              "19        8226  713700258  Existing Customer            55      F   \n",
              "\n",
              "   Education_Level Marital_Status Income_Category Card_Category  Credit_Limit  \n",
              "0          Unknown         Single     $40K - $60K          Blue       10226.0  \n",
              "1       Uneducated        Married     $60K - $80K          Blue        2527.0  \n",
              "2          College         Single    $80K - $120K          Blue        3495.0  \n",
              "3      High School        Unknown         $120K +          Blue        7793.0  \n",
              "4         Graduate         Single  Less than $40K          Blue        2761.0  \n",
              "5    Post-Graduate        Unknown    $80K - $120K          Blue       23714.0  \n",
              "6      High School         Single     $60K - $80K          Blue       24621.0  \n",
              "7         Graduate         Single  Less than $40K          Blue        2370.0  \n",
              "8       Uneducated        Married         Unknown          Blue        2404.0  \n",
              "9          Unknown         Single    $80K - $120K          Blue        4742.0  \n",
              "10       Doctorate         Single     $60K - $80K          Blue        8086.0  \n",
              "11      Uneducated        Married    $80K - $120K          Blue       26792.0  \n",
              "12     High School        Married         Unknown          Blue        5245.0  \n",
              "13      Uneducated         Single     $60K - $80K          Blue       18584.0  \n",
              "14      Uneducated         Single         Unknown          Blue        2429.0  \n",
              "15        Graduate        Married  Less than $40K          Blue        3111.0  \n",
              "16        Graduate        Married  Less than $40K          Blue        7562.0  \n",
              "17     High School         Single  Less than $40K          Blue        1438.3  \n",
              "18        Graduate         Single     $60K - $80K          Blue        1438.3  \n",
              "19   Post-Graduate        Married         Unknown          Blue        2953.0  "
            ],
            "text/html": [
              "\n",
              "  <div id=\"df-b819c02e-48aa-4be9-8636-b098dc7a9562\">\n",
              "    <div class=\"colab-df-container\">\n",
              "      <div>\n",
              "<style scoped>\n",
              "    .dataframe tbody tr th:only-of-type {\n",
              "        vertical-align: middle;\n",
              "    }\n",
              "\n",
              "    .dataframe tbody tr th {\n",
              "        vertical-align: top;\n",
              "    }\n",
              "\n",
              "    .dataframe thead th {\n",
              "        text-align: right;\n",
              "    }\n",
              "</style>\n",
              "<table border=\"1\" class=\"dataframe\">\n",
              "  <thead>\n",
              "    <tr style=\"text-align: right;\">\n",
              "      <th></th>\n",
              "      <th>Unnamed: 0</th>\n",
              "      <th>CLIENTNUM</th>\n",
              "      <th>Attrition_Flag</th>\n",
              "      <th>Customer_Age</th>\n",
              "      <th>Gender</th>\n",
              "      <th>Education_Level</th>\n",
              "      <th>Marital_Status</th>\n",
              "      <th>Income_Category</th>\n",
              "      <th>Card_Category</th>\n",
              "      <th>Credit_Limit</th>\n",
              "    </tr>\n",
              "  </thead>\n",
              "  <tbody>\n",
              "    <tr>\n",
              "      <th>0</th>\n",
              "      <td>6036</td>\n",
              "      <td>720010608</td>\n",
              "      <td>Attrited Customer</td>\n",
              "      <td>37</td>\n",
              "      <td>M</td>\n",
              "      <td>Unknown</td>\n",
              "      <td>Single</td>\n",
              "      <td>$40K - $60K</td>\n",
              "      <td>Blue</td>\n",
              "      <td>10226.0</td>\n",
              "    </tr>\n",
              "    <tr>\n",
              "      <th>1</th>\n",
              "      <td>6684</td>\n",
              "      <td>711323283</td>\n",
              "      <td>Attrited Customer</td>\n",
              "      <td>57</td>\n",
              "      <td>M</td>\n",
              "      <td>Uneducated</td>\n",
              "      <td>Married</td>\n",
              "      <td>$60K - $80K</td>\n",
              "      <td>Blue</td>\n",
              "      <td>2527.0</td>\n",
              "    </tr>\n",
              "    <tr>\n",
              "      <th>2</th>\n",
              "      <td>4272</td>\n",
              "      <td>794707083</td>\n",
              "      <td>Attrited Customer</td>\n",
              "      <td>50</td>\n",
              "      <td>M</td>\n",
              "      <td>College</td>\n",
              "      <td>Single</td>\n",
              "      <td>$80K - $120K</td>\n",
              "      <td>Blue</td>\n",
              "      <td>3495.0</td>\n",
              "    </tr>\n",
              "    <tr>\n",
              "      <th>3</th>\n",
              "      <td>9759</td>\n",
              "      <td>709657533</td>\n",
              "      <td>Attrited Customer</td>\n",
              "      <td>44</td>\n",
              "      <td>M</td>\n",
              "      <td>High School</td>\n",
              "      <td>Unknown</td>\n",
              "      <td>$120K +</td>\n",
              "      <td>Blue</td>\n",
              "      <td>7793.0</td>\n",
              "    </tr>\n",
              "    <tr>\n",
              "      <th>4</th>\n",
              "      <td>4740</td>\n",
              "      <td>716625033</td>\n",
              "      <td>Attrited Customer</td>\n",
              "      <td>32</td>\n",
              "      <td>F</td>\n",
              "      <td>Graduate</td>\n",
              "      <td>Single</td>\n",
              "      <td>Less than $40K</td>\n",
              "      <td>Blue</td>\n",
              "      <td>2761.0</td>\n",
              "    </tr>\n",
              "    <tr>\n",
              "      <th>5</th>\n",
              "      <td>9597</td>\n",
              "      <td>715076358</td>\n",
              "      <td>Attrited Customer</td>\n",
              "      <td>57</td>\n",
              "      <td>M</td>\n",
              "      <td>Post-Graduate</td>\n",
              "      <td>Unknown</td>\n",
              "      <td>$80K - $120K</td>\n",
              "      <td>Blue</td>\n",
              "      <td>23714.0</td>\n",
              "    </tr>\n",
              "    <tr>\n",
              "      <th>6</th>\n",
              "      <td>5009</td>\n",
              "      <td>804829533</td>\n",
              "      <td>Attrited Customer</td>\n",
              "      <td>59</td>\n",
              "      <td>M</td>\n",
              "      <td>High School</td>\n",
              "      <td>Single</td>\n",
              "      <td>$60K - $80K</td>\n",
              "      <td>Blue</td>\n",
              "      <td>24621.0</td>\n",
              "    </tr>\n",
              "    <tr>\n",
              "      <th>7</th>\n",
              "      <td>8200</td>\n",
              "      <td>712144158</td>\n",
              "      <td>Attrited Customer</td>\n",
              "      <td>53</td>\n",
              "      <td>F</td>\n",
              "      <td>Graduate</td>\n",
              "      <td>Single</td>\n",
              "      <td>Less than $40K</td>\n",
              "      <td>Blue</td>\n",
              "      <td>2370.0</td>\n",
              "    </tr>\n",
              "    <tr>\n",
              "      <th>8</th>\n",
              "      <td>5016</td>\n",
              "      <td>795599883</td>\n",
              "      <td>Attrited Customer</td>\n",
              "      <td>57</td>\n",
              "      <td>F</td>\n",
              "      <td>Uneducated</td>\n",
              "      <td>Married</td>\n",
              "      <td>Unknown</td>\n",
              "      <td>Blue</td>\n",
              "      <td>2404.0</td>\n",
              "    </tr>\n",
              "    <tr>\n",
              "      <th>9</th>\n",
              "      <td>8350</td>\n",
              "      <td>709222008</td>\n",
              "      <td>Attrited Customer</td>\n",
              "      <td>41</td>\n",
              "      <td>M</td>\n",
              "      <td>Unknown</td>\n",
              "      <td>Single</td>\n",
              "      <td>$80K - $120K</td>\n",
              "      <td>Blue</td>\n",
              "      <td>4742.0</td>\n",
              "    </tr>\n",
              "    <tr>\n",
              "      <th>10</th>\n",
              "      <td>8139</td>\n",
              "      <td>809844108</td>\n",
              "      <td>Existing Customer</td>\n",
              "      <td>48</td>\n",
              "      <td>M</td>\n",
              "      <td>Doctorate</td>\n",
              "      <td>Single</td>\n",
              "      <td>$60K - $80K</td>\n",
              "      <td>Blue</td>\n",
              "      <td>8086.0</td>\n",
              "    </tr>\n",
              "    <tr>\n",
              "      <th>11</th>\n",
              "      <td>176</td>\n",
              "      <td>716264358</td>\n",
              "      <td>Existing Customer</td>\n",
              "      <td>53</td>\n",
              "      <td>M</td>\n",
              "      <td>Uneducated</td>\n",
              "      <td>Married</td>\n",
              "      <td>$80K - $120K</td>\n",
              "      <td>Blue</td>\n",
              "      <td>26792.0</td>\n",
              "    </tr>\n",
              "    <tr>\n",
              "      <th>12</th>\n",
              "      <td>8020</td>\n",
              "      <td>778163508</td>\n",
              "      <td>Existing Customer</td>\n",
              "      <td>37</td>\n",
              "      <td>F</td>\n",
              "      <td>High School</td>\n",
              "      <td>Married</td>\n",
              "      <td>Unknown</td>\n",
              "      <td>Blue</td>\n",
              "      <td>5245.0</td>\n",
              "    </tr>\n",
              "    <tr>\n",
              "      <th>13</th>\n",
              "      <td>357</td>\n",
              "      <td>711857733</td>\n",
              "      <td>Existing Customer</td>\n",
              "      <td>49</td>\n",
              "      <td>M</td>\n",
              "      <td>Uneducated</td>\n",
              "      <td>Single</td>\n",
              "      <td>$60K - $80K</td>\n",
              "      <td>Blue</td>\n",
              "      <td>18584.0</td>\n",
              "    </tr>\n",
              "    <tr>\n",
              "      <th>14</th>\n",
              "      <td>6562</td>\n",
              "      <td>720070383</td>\n",
              "      <td>Existing Customer</td>\n",
              "      <td>41</td>\n",
              "      <td>F</td>\n",
              "      <td>Uneducated</td>\n",
              "      <td>Single</td>\n",
              "      <td>Unknown</td>\n",
              "      <td>Blue</td>\n",
              "      <td>2429.0</td>\n",
              "    </tr>\n",
              "    <tr>\n",
              "      <th>15</th>\n",
              "      <td>4563</td>\n",
              "      <td>809809008</td>\n",
              "      <td>Existing Customer</td>\n",
              "      <td>47</td>\n",
              "      <td>F</td>\n",
              "      <td>Graduate</td>\n",
              "      <td>Married</td>\n",
              "      <td>Less than $40K</td>\n",
              "      <td>Blue</td>\n",
              "      <td>3111.0</td>\n",
              "    </tr>\n",
              "    <tr>\n",
              "      <th>16</th>\n",
              "      <td>10084</td>\n",
              "      <td>718161708</td>\n",
              "      <td>Existing Customer</td>\n",
              "      <td>46</td>\n",
              "      <td>F</td>\n",
              "      <td>Graduate</td>\n",
              "      <td>Married</td>\n",
              "      <td>Less than $40K</td>\n",
              "      <td>Blue</td>\n",
              "      <td>7562.0</td>\n",
              "    </tr>\n",
              "    <tr>\n",
              "      <th>17</th>\n",
              "      <td>5725</td>\n",
              "      <td>771079833</td>\n",
              "      <td>Existing Customer</td>\n",
              "      <td>40</td>\n",
              "      <td>F</td>\n",
              "      <td>High School</td>\n",
              "      <td>Single</td>\n",
              "      <td>Less than $40K</td>\n",
              "      <td>Blue</td>\n",
              "      <td>1438.3</td>\n",
              "    </tr>\n",
              "    <tr>\n",
              "      <th>18</th>\n",
              "      <td>2587</td>\n",
              "      <td>711639708</td>\n",
              "      <td>Existing Customer</td>\n",
              "      <td>42</td>\n",
              "      <td>M</td>\n",
              "      <td>Graduate</td>\n",
              "      <td>Single</td>\n",
              "      <td>$60K - $80K</td>\n",
              "      <td>Blue</td>\n",
              "      <td>1438.3</td>\n",
              "    </tr>\n",
              "    <tr>\n",
              "      <th>19</th>\n",
              "      <td>8226</td>\n",
              "      <td>713700258</td>\n",
              "      <td>Existing Customer</td>\n",
              "      <td>55</td>\n",
              "      <td>F</td>\n",
              "      <td>Post-Graduate</td>\n",
              "      <td>Married</td>\n",
              "      <td>Unknown</td>\n",
              "      <td>Blue</td>\n",
              "      <td>2953.0</td>\n",
              "    </tr>\n",
              "  </tbody>\n",
              "</table>\n",
              "</div>\n",
              "      <button class=\"colab-df-convert\" onclick=\"convertToInteractive('df-b819c02e-48aa-4be9-8636-b098dc7a9562')\"\n",
              "              title=\"Convert this dataframe to an interactive table.\"\n",
              "              style=\"display:none;\">\n",
              "        \n",
              "  <svg xmlns=\"http://www.w3.org/2000/svg\" height=\"24px\"viewBox=\"0 0 24 24\"\n",
              "       width=\"24px\">\n",
              "    <path d=\"M0 0h24v24H0V0z\" fill=\"none\"/>\n",
              "    <path d=\"M18.56 5.44l.94 2.06.94-2.06 2.06-.94-2.06-.94-.94-2.06-.94 2.06-2.06.94zm-11 1L8.5 8.5l.94-2.06 2.06-.94-2.06-.94L8.5 2.5l-.94 2.06-2.06.94zm10 10l.94 2.06.94-2.06 2.06-.94-2.06-.94-.94-2.06-.94 2.06-2.06.94z\"/><path d=\"M17.41 7.96l-1.37-1.37c-.4-.4-.92-.59-1.43-.59-.52 0-1.04.2-1.43.59L10.3 9.45l-7.72 7.72c-.78.78-.78 2.05 0 2.83L4 21.41c.39.39.9.59 1.41.59.51 0 1.02-.2 1.41-.59l7.78-7.78 2.81-2.81c.8-.78.8-2.07 0-2.86zM5.41 20L4 18.59l7.72-7.72 1.47 1.35L5.41 20z\"/>\n",
              "  </svg>\n",
              "      </button>\n",
              "      \n",
              "  <style>\n",
              "    .colab-df-container {\n",
              "      display:flex;\n",
              "      flex-wrap:wrap;\n",
              "      gap: 12px;\n",
              "    }\n",
              "\n",
              "    .colab-df-convert {\n",
              "      background-color: #E8F0FE;\n",
              "      border: none;\n",
              "      border-radius: 50%;\n",
              "      cursor: pointer;\n",
              "      display: none;\n",
              "      fill: #1967D2;\n",
              "      height: 32px;\n",
              "      padding: 0 0 0 0;\n",
              "      width: 32px;\n",
              "    }\n",
              "\n",
              "    .colab-df-convert:hover {\n",
              "      background-color: #E2EBFA;\n",
              "      box-shadow: 0px 1px 2px rgba(60, 64, 67, 0.3), 0px 1px 3px 1px rgba(60, 64, 67, 0.15);\n",
              "      fill: #174EA6;\n",
              "    }\n",
              "\n",
              "    [theme=dark] .colab-df-convert {\n",
              "      background-color: #3B4455;\n",
              "      fill: #D2E3FC;\n",
              "    }\n",
              "\n",
              "    [theme=dark] .colab-df-convert:hover {\n",
              "      background-color: #434B5C;\n",
              "      box-shadow: 0px 1px 3px 1px rgba(0, 0, 0, 0.15);\n",
              "      filter: drop-shadow(0px 1px 2px rgba(0, 0, 0, 0.3));\n",
              "      fill: #FFFFFF;\n",
              "    }\n",
              "  </style>\n",
              "\n",
              "      <script>\n",
              "        const buttonEl =\n",
              "          document.querySelector('#df-b819c02e-48aa-4be9-8636-b098dc7a9562 button.colab-df-convert');\n",
              "        buttonEl.style.display =\n",
              "          google.colab.kernel.accessAllowed ? 'block' : 'none';\n",
              "\n",
              "        async function convertToInteractive(key) {\n",
              "          const element = document.querySelector('#df-b819c02e-48aa-4be9-8636-b098dc7a9562');\n",
              "          const dataTable =\n",
              "            await google.colab.kernel.invokeFunction('convertToInteractive',\n",
              "                                                     [key], {});\n",
              "          if (!dataTable) return;\n",
              "\n",
              "          const docLinkHtml = 'Like what you see? Visit the ' +\n",
              "            '<a target=\"_blank\" href=https://colab.research.google.com/notebooks/data_table.ipynb>data table notebook</a>'\n",
              "            + ' to learn more about interactive tables.';\n",
              "          element.innerHTML = '';\n",
              "          dataTable['output_type'] = 'display_data';\n",
              "          await google.colab.output.renderOutput(dataTable, element);\n",
              "          const docLink = document.createElement('div');\n",
              "          docLink.innerHTML = docLinkHtml;\n",
              "          element.appendChild(docLink);\n",
              "        }\n",
              "      </script>\n",
              "    </div>\n",
              "  </div>\n",
              "  "
            ]
          },
          "metadata": {},
          "execution_count": 33
        }
      ]
    },
    {
      "cell_type": "markdown",
      "source": [
        "### Data Understanding"
      ],
      "metadata": {
        "id": "Uj2U1K8y-A2J"
      }
    },
    {
      "cell_type": "code",
      "source": [
        "# Dari dataset diatas buatlah  variabel yang berisi\n",
        "# df1 isinya dataset dengan label target AttiredCustomer\n",
        "# df2 dengan label bukan Attrired customer\n",
        "# df3 dengan tabel untuk usia dibawah 50 tahun\n",
        "# df4 untuk customer yang statusnya itu single\n",
        "\n",
        "df1 = df[df[\"Attrition_Flag\"] == \"Attrited Customer\"]\n",
        "df2 = df[df[\"Attrition_Flag\"] != \"Attrited Customer\"]\n",
        "df3 = df[df[\"Customer_Age\"] < 50]\n",
        "df4 = df[df[\"Marital_Status\"] == \"Single\"]"
      ],
      "metadata": {
        "id": "fOe_dNgC7ZVp"
      },
      "execution_count": 49,
      "outputs": []
    },
    {
      "cell_type": "code",
      "source": [
        "df1"
      ],
      "metadata": {
        "colab": {
          "base_uri": "https://localhost:8080/",
          "height": 363
        },
        "id": "AEFU4reQ_0Gt",
        "outputId": "4ff204c5-85c9-4b8c-f4ec-805c35ee7499"
      },
      "execution_count": 50,
      "outputs": [
        {
          "output_type": "execute_result",
          "data": {
            "text/plain": [
              "   Unnamed: 0  CLIENTNUM     Attrition_Flag  Customer_Age Gender  \\\n",
              "0        6036  720010608  Attrited Customer            37      M   \n",
              "1        6684  711323283  Attrited Customer            57      M   \n",
              "2        4272  794707083  Attrited Customer            50      M   \n",
              "3        9759  709657533  Attrited Customer            44      M   \n",
              "4        4740  716625033  Attrited Customer            32      F   \n",
              "5        9597  715076358  Attrited Customer            57      M   \n",
              "6        5009  804829533  Attrited Customer            59      M   \n",
              "7        8200  712144158  Attrited Customer            53      F   \n",
              "8        5016  795599883  Attrited Customer            57      F   \n",
              "9        8350  709222008  Attrited Customer            41      M   \n",
              "\n",
              "  Education_Level Marital_Status Income_Category Card_Category  Credit_Limit  \n",
              "0         Unknown         Single     $40K - $60K          Blue       10226.0  \n",
              "1      Uneducated        Married     $60K - $80K          Blue        2527.0  \n",
              "2         College         Single    $80K - $120K          Blue        3495.0  \n",
              "3     High School        Unknown         $120K +          Blue        7793.0  \n",
              "4        Graduate         Single  Less than $40K          Blue        2761.0  \n",
              "5   Post-Graduate        Unknown    $80K - $120K          Blue       23714.0  \n",
              "6     High School         Single     $60K - $80K          Blue       24621.0  \n",
              "7        Graduate         Single  Less than $40K          Blue        2370.0  \n",
              "8      Uneducated        Married         Unknown          Blue        2404.0  \n",
              "9         Unknown         Single    $80K - $120K          Blue        4742.0  "
            ],
            "text/html": [
              "\n",
              "  <div id=\"df-df0dd8a4-8824-415d-8289-beccd5a560fa\">\n",
              "    <div class=\"colab-df-container\">\n",
              "      <div>\n",
              "<style scoped>\n",
              "    .dataframe tbody tr th:only-of-type {\n",
              "        vertical-align: middle;\n",
              "    }\n",
              "\n",
              "    .dataframe tbody tr th {\n",
              "        vertical-align: top;\n",
              "    }\n",
              "\n",
              "    .dataframe thead th {\n",
              "        text-align: right;\n",
              "    }\n",
              "</style>\n",
              "<table border=\"1\" class=\"dataframe\">\n",
              "  <thead>\n",
              "    <tr style=\"text-align: right;\">\n",
              "      <th></th>\n",
              "      <th>Unnamed: 0</th>\n",
              "      <th>CLIENTNUM</th>\n",
              "      <th>Attrition_Flag</th>\n",
              "      <th>Customer_Age</th>\n",
              "      <th>Gender</th>\n",
              "      <th>Education_Level</th>\n",
              "      <th>Marital_Status</th>\n",
              "      <th>Income_Category</th>\n",
              "      <th>Card_Category</th>\n",
              "      <th>Credit_Limit</th>\n",
              "    </tr>\n",
              "  </thead>\n",
              "  <tbody>\n",
              "    <tr>\n",
              "      <th>0</th>\n",
              "      <td>6036</td>\n",
              "      <td>720010608</td>\n",
              "      <td>Attrited Customer</td>\n",
              "      <td>37</td>\n",
              "      <td>M</td>\n",
              "      <td>Unknown</td>\n",
              "      <td>Single</td>\n",
              "      <td>$40K - $60K</td>\n",
              "      <td>Blue</td>\n",
              "      <td>10226.0</td>\n",
              "    </tr>\n",
              "    <tr>\n",
              "      <th>1</th>\n",
              "      <td>6684</td>\n",
              "      <td>711323283</td>\n",
              "      <td>Attrited Customer</td>\n",
              "      <td>57</td>\n",
              "      <td>M</td>\n",
              "      <td>Uneducated</td>\n",
              "      <td>Married</td>\n",
              "      <td>$60K - $80K</td>\n",
              "      <td>Blue</td>\n",
              "      <td>2527.0</td>\n",
              "    </tr>\n",
              "    <tr>\n",
              "      <th>2</th>\n",
              "      <td>4272</td>\n",
              "      <td>794707083</td>\n",
              "      <td>Attrited Customer</td>\n",
              "      <td>50</td>\n",
              "      <td>M</td>\n",
              "      <td>College</td>\n",
              "      <td>Single</td>\n",
              "      <td>$80K - $120K</td>\n",
              "      <td>Blue</td>\n",
              "      <td>3495.0</td>\n",
              "    </tr>\n",
              "    <tr>\n",
              "      <th>3</th>\n",
              "      <td>9759</td>\n",
              "      <td>709657533</td>\n",
              "      <td>Attrited Customer</td>\n",
              "      <td>44</td>\n",
              "      <td>M</td>\n",
              "      <td>High School</td>\n",
              "      <td>Unknown</td>\n",
              "      <td>$120K +</td>\n",
              "      <td>Blue</td>\n",
              "      <td>7793.0</td>\n",
              "    </tr>\n",
              "    <tr>\n",
              "      <th>4</th>\n",
              "      <td>4740</td>\n",
              "      <td>716625033</td>\n",
              "      <td>Attrited Customer</td>\n",
              "      <td>32</td>\n",
              "      <td>F</td>\n",
              "      <td>Graduate</td>\n",
              "      <td>Single</td>\n",
              "      <td>Less than $40K</td>\n",
              "      <td>Blue</td>\n",
              "      <td>2761.0</td>\n",
              "    </tr>\n",
              "    <tr>\n",
              "      <th>5</th>\n",
              "      <td>9597</td>\n",
              "      <td>715076358</td>\n",
              "      <td>Attrited Customer</td>\n",
              "      <td>57</td>\n",
              "      <td>M</td>\n",
              "      <td>Post-Graduate</td>\n",
              "      <td>Unknown</td>\n",
              "      <td>$80K - $120K</td>\n",
              "      <td>Blue</td>\n",
              "      <td>23714.0</td>\n",
              "    </tr>\n",
              "    <tr>\n",
              "      <th>6</th>\n",
              "      <td>5009</td>\n",
              "      <td>804829533</td>\n",
              "      <td>Attrited Customer</td>\n",
              "      <td>59</td>\n",
              "      <td>M</td>\n",
              "      <td>High School</td>\n",
              "      <td>Single</td>\n",
              "      <td>$60K - $80K</td>\n",
              "      <td>Blue</td>\n",
              "      <td>24621.0</td>\n",
              "    </tr>\n",
              "    <tr>\n",
              "      <th>7</th>\n",
              "      <td>8200</td>\n",
              "      <td>712144158</td>\n",
              "      <td>Attrited Customer</td>\n",
              "      <td>53</td>\n",
              "      <td>F</td>\n",
              "      <td>Graduate</td>\n",
              "      <td>Single</td>\n",
              "      <td>Less than $40K</td>\n",
              "      <td>Blue</td>\n",
              "      <td>2370.0</td>\n",
              "    </tr>\n",
              "    <tr>\n",
              "      <th>8</th>\n",
              "      <td>5016</td>\n",
              "      <td>795599883</td>\n",
              "      <td>Attrited Customer</td>\n",
              "      <td>57</td>\n",
              "      <td>F</td>\n",
              "      <td>Uneducated</td>\n",
              "      <td>Married</td>\n",
              "      <td>Unknown</td>\n",
              "      <td>Blue</td>\n",
              "      <td>2404.0</td>\n",
              "    </tr>\n",
              "    <tr>\n",
              "      <th>9</th>\n",
              "      <td>8350</td>\n",
              "      <td>709222008</td>\n",
              "      <td>Attrited Customer</td>\n",
              "      <td>41</td>\n",
              "      <td>M</td>\n",
              "      <td>Unknown</td>\n",
              "      <td>Single</td>\n",
              "      <td>$80K - $120K</td>\n",
              "      <td>Blue</td>\n",
              "      <td>4742.0</td>\n",
              "    </tr>\n",
              "  </tbody>\n",
              "</table>\n",
              "</div>\n",
              "      <button class=\"colab-df-convert\" onclick=\"convertToInteractive('df-df0dd8a4-8824-415d-8289-beccd5a560fa')\"\n",
              "              title=\"Convert this dataframe to an interactive table.\"\n",
              "              style=\"display:none;\">\n",
              "        \n",
              "  <svg xmlns=\"http://www.w3.org/2000/svg\" height=\"24px\"viewBox=\"0 0 24 24\"\n",
              "       width=\"24px\">\n",
              "    <path d=\"M0 0h24v24H0V0z\" fill=\"none\"/>\n",
              "    <path d=\"M18.56 5.44l.94 2.06.94-2.06 2.06-.94-2.06-.94-.94-2.06-.94 2.06-2.06.94zm-11 1L8.5 8.5l.94-2.06 2.06-.94-2.06-.94L8.5 2.5l-.94 2.06-2.06.94zm10 10l.94 2.06.94-2.06 2.06-.94-2.06-.94-.94-2.06-.94 2.06-2.06.94z\"/><path d=\"M17.41 7.96l-1.37-1.37c-.4-.4-.92-.59-1.43-.59-.52 0-1.04.2-1.43.59L10.3 9.45l-7.72 7.72c-.78.78-.78 2.05 0 2.83L4 21.41c.39.39.9.59 1.41.59.51 0 1.02-.2 1.41-.59l7.78-7.78 2.81-2.81c.8-.78.8-2.07 0-2.86zM5.41 20L4 18.59l7.72-7.72 1.47 1.35L5.41 20z\"/>\n",
              "  </svg>\n",
              "      </button>\n",
              "      \n",
              "  <style>\n",
              "    .colab-df-container {\n",
              "      display:flex;\n",
              "      flex-wrap:wrap;\n",
              "      gap: 12px;\n",
              "    }\n",
              "\n",
              "    .colab-df-convert {\n",
              "      background-color: #E8F0FE;\n",
              "      border: none;\n",
              "      border-radius: 50%;\n",
              "      cursor: pointer;\n",
              "      display: none;\n",
              "      fill: #1967D2;\n",
              "      height: 32px;\n",
              "      padding: 0 0 0 0;\n",
              "      width: 32px;\n",
              "    }\n",
              "\n",
              "    .colab-df-convert:hover {\n",
              "      background-color: #E2EBFA;\n",
              "      box-shadow: 0px 1px 2px rgba(60, 64, 67, 0.3), 0px 1px 3px 1px rgba(60, 64, 67, 0.15);\n",
              "      fill: #174EA6;\n",
              "    }\n",
              "\n",
              "    [theme=dark] .colab-df-convert {\n",
              "      background-color: #3B4455;\n",
              "      fill: #D2E3FC;\n",
              "    }\n",
              "\n",
              "    [theme=dark] .colab-df-convert:hover {\n",
              "      background-color: #434B5C;\n",
              "      box-shadow: 0px 1px 3px 1px rgba(0, 0, 0, 0.15);\n",
              "      filter: drop-shadow(0px 1px 2px rgba(0, 0, 0, 0.3));\n",
              "      fill: #FFFFFF;\n",
              "    }\n",
              "  </style>\n",
              "\n",
              "      <script>\n",
              "        const buttonEl =\n",
              "          document.querySelector('#df-df0dd8a4-8824-415d-8289-beccd5a560fa button.colab-df-convert');\n",
              "        buttonEl.style.display =\n",
              "          google.colab.kernel.accessAllowed ? 'block' : 'none';\n",
              "\n",
              "        async function convertToInteractive(key) {\n",
              "          const element = document.querySelector('#df-df0dd8a4-8824-415d-8289-beccd5a560fa');\n",
              "          const dataTable =\n",
              "            await google.colab.kernel.invokeFunction('convertToInteractive',\n",
              "                                                     [key], {});\n",
              "          if (!dataTable) return;\n",
              "\n",
              "          const docLinkHtml = 'Like what you see? Visit the ' +\n",
              "            '<a target=\"_blank\" href=https://colab.research.google.com/notebooks/data_table.ipynb>data table notebook</a>'\n",
              "            + ' to learn more about interactive tables.';\n",
              "          element.innerHTML = '';\n",
              "          dataTable['output_type'] = 'display_data';\n",
              "          await google.colab.output.renderOutput(dataTable, element);\n",
              "          const docLink = document.createElement('div');\n",
              "          docLink.innerHTML = docLinkHtml;\n",
              "          element.appendChild(docLink);\n",
              "        }\n",
              "      </script>\n",
              "    </div>\n",
              "  </div>\n",
              "  "
            ]
          },
          "metadata": {},
          "execution_count": 50
        }
      ]
    },
    {
      "cell_type": "code",
      "source": [
        "df2"
      ],
      "metadata": {
        "colab": {
          "base_uri": "https://localhost:8080/",
          "height": 363
        },
        "id": "axFNfZ2E_2WS",
        "outputId": "920db805-0e1f-4506-b8a8-81ac98ac98c5"
      },
      "execution_count": 51,
      "outputs": [
        {
          "output_type": "execute_result",
          "data": {
            "text/plain": [
              "    Unnamed: 0  CLIENTNUM     Attrition_Flag  Customer_Age Gender  \\\n",
              "10        8139  809844108  Existing Customer            48      M   \n",
              "11         176  716264358  Existing Customer            53      M   \n",
              "12        8020  778163508  Existing Customer            37      F   \n",
              "13         357  711857733  Existing Customer            49      M   \n",
              "14        6562  720070383  Existing Customer            41      F   \n",
              "15        4563  809809008  Existing Customer            47      F   \n",
              "16       10084  718161708  Existing Customer            46      F   \n",
              "17        5725  771079833  Existing Customer            40      F   \n",
              "18        2587  711639708  Existing Customer            42      M   \n",
              "19        8226  713700258  Existing Customer            55      F   \n",
              "\n",
              "   Education_Level Marital_Status Income_Category Card_Category  Credit_Limit  \n",
              "10       Doctorate         Single     $60K - $80K          Blue        8086.0  \n",
              "11      Uneducated        Married    $80K - $120K          Blue       26792.0  \n",
              "12     High School        Married         Unknown          Blue        5245.0  \n",
              "13      Uneducated         Single     $60K - $80K          Blue       18584.0  \n",
              "14      Uneducated         Single         Unknown          Blue        2429.0  \n",
              "15        Graduate        Married  Less than $40K          Blue        3111.0  \n",
              "16        Graduate        Married  Less than $40K          Blue        7562.0  \n",
              "17     High School         Single  Less than $40K          Blue        1438.3  \n",
              "18        Graduate         Single     $60K - $80K          Blue        1438.3  \n",
              "19   Post-Graduate        Married         Unknown          Blue        2953.0  "
            ],
            "text/html": [
              "\n",
              "  <div id=\"df-c69b9539-ad71-4988-bf42-9797163c7b0c\">\n",
              "    <div class=\"colab-df-container\">\n",
              "      <div>\n",
              "<style scoped>\n",
              "    .dataframe tbody tr th:only-of-type {\n",
              "        vertical-align: middle;\n",
              "    }\n",
              "\n",
              "    .dataframe tbody tr th {\n",
              "        vertical-align: top;\n",
              "    }\n",
              "\n",
              "    .dataframe thead th {\n",
              "        text-align: right;\n",
              "    }\n",
              "</style>\n",
              "<table border=\"1\" class=\"dataframe\">\n",
              "  <thead>\n",
              "    <tr style=\"text-align: right;\">\n",
              "      <th></th>\n",
              "      <th>Unnamed: 0</th>\n",
              "      <th>CLIENTNUM</th>\n",
              "      <th>Attrition_Flag</th>\n",
              "      <th>Customer_Age</th>\n",
              "      <th>Gender</th>\n",
              "      <th>Education_Level</th>\n",
              "      <th>Marital_Status</th>\n",
              "      <th>Income_Category</th>\n",
              "      <th>Card_Category</th>\n",
              "      <th>Credit_Limit</th>\n",
              "    </tr>\n",
              "  </thead>\n",
              "  <tbody>\n",
              "    <tr>\n",
              "      <th>10</th>\n",
              "      <td>8139</td>\n",
              "      <td>809844108</td>\n",
              "      <td>Existing Customer</td>\n",
              "      <td>48</td>\n",
              "      <td>M</td>\n",
              "      <td>Doctorate</td>\n",
              "      <td>Single</td>\n",
              "      <td>$60K - $80K</td>\n",
              "      <td>Blue</td>\n",
              "      <td>8086.0</td>\n",
              "    </tr>\n",
              "    <tr>\n",
              "      <th>11</th>\n",
              "      <td>176</td>\n",
              "      <td>716264358</td>\n",
              "      <td>Existing Customer</td>\n",
              "      <td>53</td>\n",
              "      <td>M</td>\n",
              "      <td>Uneducated</td>\n",
              "      <td>Married</td>\n",
              "      <td>$80K - $120K</td>\n",
              "      <td>Blue</td>\n",
              "      <td>26792.0</td>\n",
              "    </tr>\n",
              "    <tr>\n",
              "      <th>12</th>\n",
              "      <td>8020</td>\n",
              "      <td>778163508</td>\n",
              "      <td>Existing Customer</td>\n",
              "      <td>37</td>\n",
              "      <td>F</td>\n",
              "      <td>High School</td>\n",
              "      <td>Married</td>\n",
              "      <td>Unknown</td>\n",
              "      <td>Blue</td>\n",
              "      <td>5245.0</td>\n",
              "    </tr>\n",
              "    <tr>\n",
              "      <th>13</th>\n",
              "      <td>357</td>\n",
              "      <td>711857733</td>\n",
              "      <td>Existing Customer</td>\n",
              "      <td>49</td>\n",
              "      <td>M</td>\n",
              "      <td>Uneducated</td>\n",
              "      <td>Single</td>\n",
              "      <td>$60K - $80K</td>\n",
              "      <td>Blue</td>\n",
              "      <td>18584.0</td>\n",
              "    </tr>\n",
              "    <tr>\n",
              "      <th>14</th>\n",
              "      <td>6562</td>\n",
              "      <td>720070383</td>\n",
              "      <td>Existing Customer</td>\n",
              "      <td>41</td>\n",
              "      <td>F</td>\n",
              "      <td>Uneducated</td>\n",
              "      <td>Single</td>\n",
              "      <td>Unknown</td>\n",
              "      <td>Blue</td>\n",
              "      <td>2429.0</td>\n",
              "    </tr>\n",
              "    <tr>\n",
              "      <th>15</th>\n",
              "      <td>4563</td>\n",
              "      <td>809809008</td>\n",
              "      <td>Existing Customer</td>\n",
              "      <td>47</td>\n",
              "      <td>F</td>\n",
              "      <td>Graduate</td>\n",
              "      <td>Married</td>\n",
              "      <td>Less than $40K</td>\n",
              "      <td>Blue</td>\n",
              "      <td>3111.0</td>\n",
              "    </tr>\n",
              "    <tr>\n",
              "      <th>16</th>\n",
              "      <td>10084</td>\n",
              "      <td>718161708</td>\n",
              "      <td>Existing Customer</td>\n",
              "      <td>46</td>\n",
              "      <td>F</td>\n",
              "      <td>Graduate</td>\n",
              "      <td>Married</td>\n",
              "      <td>Less than $40K</td>\n",
              "      <td>Blue</td>\n",
              "      <td>7562.0</td>\n",
              "    </tr>\n",
              "    <tr>\n",
              "      <th>17</th>\n",
              "      <td>5725</td>\n",
              "      <td>771079833</td>\n",
              "      <td>Existing Customer</td>\n",
              "      <td>40</td>\n",
              "      <td>F</td>\n",
              "      <td>High School</td>\n",
              "      <td>Single</td>\n",
              "      <td>Less than $40K</td>\n",
              "      <td>Blue</td>\n",
              "      <td>1438.3</td>\n",
              "    </tr>\n",
              "    <tr>\n",
              "      <th>18</th>\n",
              "      <td>2587</td>\n",
              "      <td>711639708</td>\n",
              "      <td>Existing Customer</td>\n",
              "      <td>42</td>\n",
              "      <td>M</td>\n",
              "      <td>Graduate</td>\n",
              "      <td>Single</td>\n",
              "      <td>$60K - $80K</td>\n",
              "      <td>Blue</td>\n",
              "      <td>1438.3</td>\n",
              "    </tr>\n",
              "    <tr>\n",
              "      <th>19</th>\n",
              "      <td>8226</td>\n",
              "      <td>713700258</td>\n",
              "      <td>Existing Customer</td>\n",
              "      <td>55</td>\n",
              "      <td>F</td>\n",
              "      <td>Post-Graduate</td>\n",
              "      <td>Married</td>\n",
              "      <td>Unknown</td>\n",
              "      <td>Blue</td>\n",
              "      <td>2953.0</td>\n",
              "    </tr>\n",
              "  </tbody>\n",
              "</table>\n",
              "</div>\n",
              "      <button class=\"colab-df-convert\" onclick=\"convertToInteractive('df-c69b9539-ad71-4988-bf42-9797163c7b0c')\"\n",
              "              title=\"Convert this dataframe to an interactive table.\"\n",
              "              style=\"display:none;\">\n",
              "        \n",
              "  <svg xmlns=\"http://www.w3.org/2000/svg\" height=\"24px\"viewBox=\"0 0 24 24\"\n",
              "       width=\"24px\">\n",
              "    <path d=\"M0 0h24v24H0V0z\" fill=\"none\"/>\n",
              "    <path d=\"M18.56 5.44l.94 2.06.94-2.06 2.06-.94-2.06-.94-.94-2.06-.94 2.06-2.06.94zm-11 1L8.5 8.5l.94-2.06 2.06-.94-2.06-.94L8.5 2.5l-.94 2.06-2.06.94zm10 10l.94 2.06.94-2.06 2.06-.94-2.06-.94-.94-2.06-.94 2.06-2.06.94z\"/><path d=\"M17.41 7.96l-1.37-1.37c-.4-.4-.92-.59-1.43-.59-.52 0-1.04.2-1.43.59L10.3 9.45l-7.72 7.72c-.78.78-.78 2.05 0 2.83L4 21.41c.39.39.9.59 1.41.59.51 0 1.02-.2 1.41-.59l7.78-7.78 2.81-2.81c.8-.78.8-2.07 0-2.86zM5.41 20L4 18.59l7.72-7.72 1.47 1.35L5.41 20z\"/>\n",
              "  </svg>\n",
              "      </button>\n",
              "      \n",
              "  <style>\n",
              "    .colab-df-container {\n",
              "      display:flex;\n",
              "      flex-wrap:wrap;\n",
              "      gap: 12px;\n",
              "    }\n",
              "\n",
              "    .colab-df-convert {\n",
              "      background-color: #E8F0FE;\n",
              "      border: none;\n",
              "      border-radius: 50%;\n",
              "      cursor: pointer;\n",
              "      display: none;\n",
              "      fill: #1967D2;\n",
              "      height: 32px;\n",
              "      padding: 0 0 0 0;\n",
              "      width: 32px;\n",
              "    }\n",
              "\n",
              "    .colab-df-convert:hover {\n",
              "      background-color: #E2EBFA;\n",
              "      box-shadow: 0px 1px 2px rgba(60, 64, 67, 0.3), 0px 1px 3px 1px rgba(60, 64, 67, 0.15);\n",
              "      fill: #174EA6;\n",
              "    }\n",
              "\n",
              "    [theme=dark] .colab-df-convert {\n",
              "      background-color: #3B4455;\n",
              "      fill: #D2E3FC;\n",
              "    }\n",
              "\n",
              "    [theme=dark] .colab-df-convert:hover {\n",
              "      background-color: #434B5C;\n",
              "      box-shadow: 0px 1px 3px 1px rgba(0, 0, 0, 0.15);\n",
              "      filter: drop-shadow(0px 1px 2px rgba(0, 0, 0, 0.3));\n",
              "      fill: #FFFFFF;\n",
              "    }\n",
              "  </style>\n",
              "\n",
              "      <script>\n",
              "        const buttonEl =\n",
              "          document.querySelector('#df-c69b9539-ad71-4988-bf42-9797163c7b0c button.colab-df-convert');\n",
              "        buttonEl.style.display =\n",
              "          google.colab.kernel.accessAllowed ? 'block' : 'none';\n",
              "\n",
              "        async function convertToInteractive(key) {\n",
              "          const element = document.querySelector('#df-c69b9539-ad71-4988-bf42-9797163c7b0c');\n",
              "          const dataTable =\n",
              "            await google.colab.kernel.invokeFunction('convertToInteractive',\n",
              "                                                     [key], {});\n",
              "          if (!dataTable) return;\n",
              "\n",
              "          const docLinkHtml = 'Like what you see? Visit the ' +\n",
              "            '<a target=\"_blank\" href=https://colab.research.google.com/notebooks/data_table.ipynb>data table notebook</a>'\n",
              "            + ' to learn more about interactive tables.';\n",
              "          element.innerHTML = '';\n",
              "          dataTable['output_type'] = 'display_data';\n",
              "          await google.colab.output.renderOutput(dataTable, element);\n",
              "          const docLink = document.createElement('div');\n",
              "          docLink.innerHTML = docLinkHtml;\n",
              "          element.appendChild(docLink);\n",
              "        }\n",
              "      </script>\n",
              "    </div>\n",
              "  </div>\n",
              "  "
            ]
          },
          "metadata": {},
          "execution_count": 51
        }
      ]
    },
    {
      "cell_type": "code",
      "source": [
        "df3"
      ],
      "metadata": {
        "colab": {
          "base_uri": "https://localhost:8080/",
          "height": 425
        },
        "id": "rABzzaXe_4K5",
        "outputId": "c85a7f2f-f55d-42e7-a79a-e3ad74be0eaf"
      },
      "execution_count": 52,
      "outputs": [
        {
          "output_type": "execute_result",
          "data": {
            "text/plain": [
              "    Unnamed: 0  CLIENTNUM     Attrition_Flag  Customer_Age Gender  \\\n",
              "0         6036  720010608  Attrited Customer            37      M   \n",
              "3         9759  709657533  Attrited Customer            44      M   \n",
              "4         4740  716625033  Attrited Customer            32      F   \n",
              "9         8350  709222008  Attrited Customer            41      M   \n",
              "10        8139  809844108  Existing Customer            48      M   \n",
              "12        8020  778163508  Existing Customer            37      F   \n",
              "13         357  711857733  Existing Customer            49      M   \n",
              "14        6562  720070383  Existing Customer            41      F   \n",
              "15        4563  809809008  Existing Customer            47      F   \n",
              "16       10084  718161708  Existing Customer            46      F   \n",
              "17        5725  771079833  Existing Customer            40      F   \n",
              "18        2587  711639708  Existing Customer            42      M   \n",
              "\n",
              "   Education_Level Marital_Status Income_Category Card_Category  Credit_Limit  \n",
              "0          Unknown         Single     $40K - $60K          Blue       10226.0  \n",
              "3      High School        Unknown         $120K +          Blue        7793.0  \n",
              "4         Graduate         Single  Less than $40K          Blue        2761.0  \n",
              "9          Unknown         Single    $80K - $120K          Blue        4742.0  \n",
              "10       Doctorate         Single     $60K - $80K          Blue        8086.0  \n",
              "12     High School        Married         Unknown          Blue        5245.0  \n",
              "13      Uneducated         Single     $60K - $80K          Blue       18584.0  \n",
              "14      Uneducated         Single         Unknown          Blue        2429.0  \n",
              "15        Graduate        Married  Less than $40K          Blue        3111.0  \n",
              "16        Graduate        Married  Less than $40K          Blue        7562.0  \n",
              "17     High School         Single  Less than $40K          Blue        1438.3  \n",
              "18        Graduate         Single     $60K - $80K          Blue        1438.3  "
            ],
            "text/html": [
              "\n",
              "  <div id=\"df-cd543d94-8ffa-4bfc-a225-ab0c867a4630\">\n",
              "    <div class=\"colab-df-container\">\n",
              "      <div>\n",
              "<style scoped>\n",
              "    .dataframe tbody tr th:only-of-type {\n",
              "        vertical-align: middle;\n",
              "    }\n",
              "\n",
              "    .dataframe tbody tr th {\n",
              "        vertical-align: top;\n",
              "    }\n",
              "\n",
              "    .dataframe thead th {\n",
              "        text-align: right;\n",
              "    }\n",
              "</style>\n",
              "<table border=\"1\" class=\"dataframe\">\n",
              "  <thead>\n",
              "    <tr style=\"text-align: right;\">\n",
              "      <th></th>\n",
              "      <th>Unnamed: 0</th>\n",
              "      <th>CLIENTNUM</th>\n",
              "      <th>Attrition_Flag</th>\n",
              "      <th>Customer_Age</th>\n",
              "      <th>Gender</th>\n",
              "      <th>Education_Level</th>\n",
              "      <th>Marital_Status</th>\n",
              "      <th>Income_Category</th>\n",
              "      <th>Card_Category</th>\n",
              "      <th>Credit_Limit</th>\n",
              "    </tr>\n",
              "  </thead>\n",
              "  <tbody>\n",
              "    <tr>\n",
              "      <th>0</th>\n",
              "      <td>6036</td>\n",
              "      <td>720010608</td>\n",
              "      <td>Attrited Customer</td>\n",
              "      <td>37</td>\n",
              "      <td>M</td>\n",
              "      <td>Unknown</td>\n",
              "      <td>Single</td>\n",
              "      <td>$40K - $60K</td>\n",
              "      <td>Blue</td>\n",
              "      <td>10226.0</td>\n",
              "    </tr>\n",
              "    <tr>\n",
              "      <th>3</th>\n",
              "      <td>9759</td>\n",
              "      <td>709657533</td>\n",
              "      <td>Attrited Customer</td>\n",
              "      <td>44</td>\n",
              "      <td>M</td>\n",
              "      <td>High School</td>\n",
              "      <td>Unknown</td>\n",
              "      <td>$120K +</td>\n",
              "      <td>Blue</td>\n",
              "      <td>7793.0</td>\n",
              "    </tr>\n",
              "    <tr>\n",
              "      <th>4</th>\n",
              "      <td>4740</td>\n",
              "      <td>716625033</td>\n",
              "      <td>Attrited Customer</td>\n",
              "      <td>32</td>\n",
              "      <td>F</td>\n",
              "      <td>Graduate</td>\n",
              "      <td>Single</td>\n",
              "      <td>Less than $40K</td>\n",
              "      <td>Blue</td>\n",
              "      <td>2761.0</td>\n",
              "    </tr>\n",
              "    <tr>\n",
              "      <th>9</th>\n",
              "      <td>8350</td>\n",
              "      <td>709222008</td>\n",
              "      <td>Attrited Customer</td>\n",
              "      <td>41</td>\n",
              "      <td>M</td>\n",
              "      <td>Unknown</td>\n",
              "      <td>Single</td>\n",
              "      <td>$80K - $120K</td>\n",
              "      <td>Blue</td>\n",
              "      <td>4742.0</td>\n",
              "    </tr>\n",
              "    <tr>\n",
              "      <th>10</th>\n",
              "      <td>8139</td>\n",
              "      <td>809844108</td>\n",
              "      <td>Existing Customer</td>\n",
              "      <td>48</td>\n",
              "      <td>M</td>\n",
              "      <td>Doctorate</td>\n",
              "      <td>Single</td>\n",
              "      <td>$60K - $80K</td>\n",
              "      <td>Blue</td>\n",
              "      <td>8086.0</td>\n",
              "    </tr>\n",
              "    <tr>\n",
              "      <th>12</th>\n",
              "      <td>8020</td>\n",
              "      <td>778163508</td>\n",
              "      <td>Existing Customer</td>\n",
              "      <td>37</td>\n",
              "      <td>F</td>\n",
              "      <td>High School</td>\n",
              "      <td>Married</td>\n",
              "      <td>Unknown</td>\n",
              "      <td>Blue</td>\n",
              "      <td>5245.0</td>\n",
              "    </tr>\n",
              "    <tr>\n",
              "      <th>13</th>\n",
              "      <td>357</td>\n",
              "      <td>711857733</td>\n",
              "      <td>Existing Customer</td>\n",
              "      <td>49</td>\n",
              "      <td>M</td>\n",
              "      <td>Uneducated</td>\n",
              "      <td>Single</td>\n",
              "      <td>$60K - $80K</td>\n",
              "      <td>Blue</td>\n",
              "      <td>18584.0</td>\n",
              "    </tr>\n",
              "    <tr>\n",
              "      <th>14</th>\n",
              "      <td>6562</td>\n",
              "      <td>720070383</td>\n",
              "      <td>Existing Customer</td>\n",
              "      <td>41</td>\n",
              "      <td>F</td>\n",
              "      <td>Uneducated</td>\n",
              "      <td>Single</td>\n",
              "      <td>Unknown</td>\n",
              "      <td>Blue</td>\n",
              "      <td>2429.0</td>\n",
              "    </tr>\n",
              "    <tr>\n",
              "      <th>15</th>\n",
              "      <td>4563</td>\n",
              "      <td>809809008</td>\n",
              "      <td>Existing Customer</td>\n",
              "      <td>47</td>\n",
              "      <td>F</td>\n",
              "      <td>Graduate</td>\n",
              "      <td>Married</td>\n",
              "      <td>Less than $40K</td>\n",
              "      <td>Blue</td>\n",
              "      <td>3111.0</td>\n",
              "    </tr>\n",
              "    <tr>\n",
              "      <th>16</th>\n",
              "      <td>10084</td>\n",
              "      <td>718161708</td>\n",
              "      <td>Existing Customer</td>\n",
              "      <td>46</td>\n",
              "      <td>F</td>\n",
              "      <td>Graduate</td>\n",
              "      <td>Married</td>\n",
              "      <td>Less than $40K</td>\n",
              "      <td>Blue</td>\n",
              "      <td>7562.0</td>\n",
              "    </tr>\n",
              "    <tr>\n",
              "      <th>17</th>\n",
              "      <td>5725</td>\n",
              "      <td>771079833</td>\n",
              "      <td>Existing Customer</td>\n",
              "      <td>40</td>\n",
              "      <td>F</td>\n",
              "      <td>High School</td>\n",
              "      <td>Single</td>\n",
              "      <td>Less than $40K</td>\n",
              "      <td>Blue</td>\n",
              "      <td>1438.3</td>\n",
              "    </tr>\n",
              "    <tr>\n",
              "      <th>18</th>\n",
              "      <td>2587</td>\n",
              "      <td>711639708</td>\n",
              "      <td>Existing Customer</td>\n",
              "      <td>42</td>\n",
              "      <td>M</td>\n",
              "      <td>Graduate</td>\n",
              "      <td>Single</td>\n",
              "      <td>$60K - $80K</td>\n",
              "      <td>Blue</td>\n",
              "      <td>1438.3</td>\n",
              "    </tr>\n",
              "  </tbody>\n",
              "</table>\n",
              "</div>\n",
              "      <button class=\"colab-df-convert\" onclick=\"convertToInteractive('df-cd543d94-8ffa-4bfc-a225-ab0c867a4630')\"\n",
              "              title=\"Convert this dataframe to an interactive table.\"\n",
              "              style=\"display:none;\">\n",
              "        \n",
              "  <svg xmlns=\"http://www.w3.org/2000/svg\" height=\"24px\"viewBox=\"0 0 24 24\"\n",
              "       width=\"24px\">\n",
              "    <path d=\"M0 0h24v24H0V0z\" fill=\"none\"/>\n",
              "    <path d=\"M18.56 5.44l.94 2.06.94-2.06 2.06-.94-2.06-.94-.94-2.06-.94 2.06-2.06.94zm-11 1L8.5 8.5l.94-2.06 2.06-.94-2.06-.94L8.5 2.5l-.94 2.06-2.06.94zm10 10l.94 2.06.94-2.06 2.06-.94-2.06-.94-.94-2.06-.94 2.06-2.06.94z\"/><path d=\"M17.41 7.96l-1.37-1.37c-.4-.4-.92-.59-1.43-.59-.52 0-1.04.2-1.43.59L10.3 9.45l-7.72 7.72c-.78.78-.78 2.05 0 2.83L4 21.41c.39.39.9.59 1.41.59.51 0 1.02-.2 1.41-.59l7.78-7.78 2.81-2.81c.8-.78.8-2.07 0-2.86zM5.41 20L4 18.59l7.72-7.72 1.47 1.35L5.41 20z\"/>\n",
              "  </svg>\n",
              "      </button>\n",
              "      \n",
              "  <style>\n",
              "    .colab-df-container {\n",
              "      display:flex;\n",
              "      flex-wrap:wrap;\n",
              "      gap: 12px;\n",
              "    }\n",
              "\n",
              "    .colab-df-convert {\n",
              "      background-color: #E8F0FE;\n",
              "      border: none;\n",
              "      border-radius: 50%;\n",
              "      cursor: pointer;\n",
              "      display: none;\n",
              "      fill: #1967D2;\n",
              "      height: 32px;\n",
              "      padding: 0 0 0 0;\n",
              "      width: 32px;\n",
              "    }\n",
              "\n",
              "    .colab-df-convert:hover {\n",
              "      background-color: #E2EBFA;\n",
              "      box-shadow: 0px 1px 2px rgba(60, 64, 67, 0.3), 0px 1px 3px 1px rgba(60, 64, 67, 0.15);\n",
              "      fill: #174EA6;\n",
              "    }\n",
              "\n",
              "    [theme=dark] .colab-df-convert {\n",
              "      background-color: #3B4455;\n",
              "      fill: #D2E3FC;\n",
              "    }\n",
              "\n",
              "    [theme=dark] .colab-df-convert:hover {\n",
              "      background-color: #434B5C;\n",
              "      box-shadow: 0px 1px 3px 1px rgba(0, 0, 0, 0.15);\n",
              "      filter: drop-shadow(0px 1px 2px rgba(0, 0, 0, 0.3));\n",
              "      fill: #FFFFFF;\n",
              "    }\n",
              "  </style>\n",
              "\n",
              "      <script>\n",
              "        const buttonEl =\n",
              "          document.querySelector('#df-cd543d94-8ffa-4bfc-a225-ab0c867a4630 button.colab-df-convert');\n",
              "        buttonEl.style.display =\n",
              "          google.colab.kernel.accessAllowed ? 'block' : 'none';\n",
              "\n",
              "        async function convertToInteractive(key) {\n",
              "          const element = document.querySelector('#df-cd543d94-8ffa-4bfc-a225-ab0c867a4630');\n",
              "          const dataTable =\n",
              "            await google.colab.kernel.invokeFunction('convertToInteractive',\n",
              "                                                     [key], {});\n",
              "          if (!dataTable) return;\n",
              "\n",
              "          const docLinkHtml = 'Like what you see? Visit the ' +\n",
              "            '<a target=\"_blank\" href=https://colab.research.google.com/notebooks/data_table.ipynb>data table notebook</a>'\n",
              "            + ' to learn more about interactive tables.';\n",
              "          element.innerHTML = '';\n",
              "          dataTable['output_type'] = 'display_data';\n",
              "          await google.colab.output.renderOutput(dataTable, element);\n",
              "          const docLink = document.createElement('div');\n",
              "          docLink.innerHTML = docLinkHtml;\n",
              "          element.appendChild(docLink);\n",
              "        }\n",
              "      </script>\n",
              "    </div>\n",
              "  </div>\n",
              "  "
            ]
          },
          "metadata": {},
          "execution_count": 52
        }
      ]
    },
    {
      "cell_type": "code",
      "source": [
        "df4"
      ],
      "metadata": {
        "colab": {
          "base_uri": "https://localhost:8080/",
          "height": 394
        },
        "id": "6MFBCF4S_5sG",
        "outputId": "862840f7-2a59-4552-8b18-9e954382f9c0"
      },
      "execution_count": 53,
      "outputs": [
        {
          "output_type": "execute_result",
          "data": {
            "text/plain": [
              "    Unnamed: 0  CLIENTNUM     Attrition_Flag  Customer_Age Gender  \\\n",
              "0         6036  720010608  Attrited Customer            37      M   \n",
              "2         4272  794707083  Attrited Customer            50      M   \n",
              "4         4740  716625033  Attrited Customer            32      F   \n",
              "6         5009  804829533  Attrited Customer            59      M   \n",
              "7         8200  712144158  Attrited Customer            53      F   \n",
              "9         8350  709222008  Attrited Customer            41      M   \n",
              "10        8139  809844108  Existing Customer            48      M   \n",
              "13         357  711857733  Existing Customer            49      M   \n",
              "14        6562  720070383  Existing Customer            41      F   \n",
              "17        5725  771079833  Existing Customer            40      F   \n",
              "18        2587  711639708  Existing Customer            42      M   \n",
              "\n",
              "   Education_Level Marital_Status Income_Category Card_Category  Credit_Limit  \n",
              "0          Unknown         Single     $40K - $60K          Blue       10226.0  \n",
              "2          College         Single    $80K - $120K          Blue        3495.0  \n",
              "4         Graduate         Single  Less than $40K          Blue        2761.0  \n",
              "6      High School         Single     $60K - $80K          Blue       24621.0  \n",
              "7         Graduate         Single  Less than $40K          Blue        2370.0  \n",
              "9          Unknown         Single    $80K - $120K          Blue        4742.0  \n",
              "10       Doctorate         Single     $60K - $80K          Blue        8086.0  \n",
              "13      Uneducated         Single     $60K - $80K          Blue       18584.0  \n",
              "14      Uneducated         Single         Unknown          Blue        2429.0  \n",
              "17     High School         Single  Less than $40K          Blue        1438.3  \n",
              "18        Graduate         Single     $60K - $80K          Blue        1438.3  "
            ],
            "text/html": [
              "\n",
              "  <div id=\"df-0119d727-9122-4c05-9f6c-602729021b9c\">\n",
              "    <div class=\"colab-df-container\">\n",
              "      <div>\n",
              "<style scoped>\n",
              "    .dataframe tbody tr th:only-of-type {\n",
              "        vertical-align: middle;\n",
              "    }\n",
              "\n",
              "    .dataframe tbody tr th {\n",
              "        vertical-align: top;\n",
              "    }\n",
              "\n",
              "    .dataframe thead th {\n",
              "        text-align: right;\n",
              "    }\n",
              "</style>\n",
              "<table border=\"1\" class=\"dataframe\">\n",
              "  <thead>\n",
              "    <tr style=\"text-align: right;\">\n",
              "      <th></th>\n",
              "      <th>Unnamed: 0</th>\n",
              "      <th>CLIENTNUM</th>\n",
              "      <th>Attrition_Flag</th>\n",
              "      <th>Customer_Age</th>\n",
              "      <th>Gender</th>\n",
              "      <th>Education_Level</th>\n",
              "      <th>Marital_Status</th>\n",
              "      <th>Income_Category</th>\n",
              "      <th>Card_Category</th>\n",
              "      <th>Credit_Limit</th>\n",
              "    </tr>\n",
              "  </thead>\n",
              "  <tbody>\n",
              "    <tr>\n",
              "      <th>0</th>\n",
              "      <td>6036</td>\n",
              "      <td>720010608</td>\n",
              "      <td>Attrited Customer</td>\n",
              "      <td>37</td>\n",
              "      <td>M</td>\n",
              "      <td>Unknown</td>\n",
              "      <td>Single</td>\n",
              "      <td>$40K - $60K</td>\n",
              "      <td>Blue</td>\n",
              "      <td>10226.0</td>\n",
              "    </tr>\n",
              "    <tr>\n",
              "      <th>2</th>\n",
              "      <td>4272</td>\n",
              "      <td>794707083</td>\n",
              "      <td>Attrited Customer</td>\n",
              "      <td>50</td>\n",
              "      <td>M</td>\n",
              "      <td>College</td>\n",
              "      <td>Single</td>\n",
              "      <td>$80K - $120K</td>\n",
              "      <td>Blue</td>\n",
              "      <td>3495.0</td>\n",
              "    </tr>\n",
              "    <tr>\n",
              "      <th>4</th>\n",
              "      <td>4740</td>\n",
              "      <td>716625033</td>\n",
              "      <td>Attrited Customer</td>\n",
              "      <td>32</td>\n",
              "      <td>F</td>\n",
              "      <td>Graduate</td>\n",
              "      <td>Single</td>\n",
              "      <td>Less than $40K</td>\n",
              "      <td>Blue</td>\n",
              "      <td>2761.0</td>\n",
              "    </tr>\n",
              "    <tr>\n",
              "      <th>6</th>\n",
              "      <td>5009</td>\n",
              "      <td>804829533</td>\n",
              "      <td>Attrited Customer</td>\n",
              "      <td>59</td>\n",
              "      <td>M</td>\n",
              "      <td>High School</td>\n",
              "      <td>Single</td>\n",
              "      <td>$60K - $80K</td>\n",
              "      <td>Blue</td>\n",
              "      <td>24621.0</td>\n",
              "    </tr>\n",
              "    <tr>\n",
              "      <th>7</th>\n",
              "      <td>8200</td>\n",
              "      <td>712144158</td>\n",
              "      <td>Attrited Customer</td>\n",
              "      <td>53</td>\n",
              "      <td>F</td>\n",
              "      <td>Graduate</td>\n",
              "      <td>Single</td>\n",
              "      <td>Less than $40K</td>\n",
              "      <td>Blue</td>\n",
              "      <td>2370.0</td>\n",
              "    </tr>\n",
              "    <tr>\n",
              "      <th>9</th>\n",
              "      <td>8350</td>\n",
              "      <td>709222008</td>\n",
              "      <td>Attrited Customer</td>\n",
              "      <td>41</td>\n",
              "      <td>M</td>\n",
              "      <td>Unknown</td>\n",
              "      <td>Single</td>\n",
              "      <td>$80K - $120K</td>\n",
              "      <td>Blue</td>\n",
              "      <td>4742.0</td>\n",
              "    </tr>\n",
              "    <tr>\n",
              "      <th>10</th>\n",
              "      <td>8139</td>\n",
              "      <td>809844108</td>\n",
              "      <td>Existing Customer</td>\n",
              "      <td>48</td>\n",
              "      <td>M</td>\n",
              "      <td>Doctorate</td>\n",
              "      <td>Single</td>\n",
              "      <td>$60K - $80K</td>\n",
              "      <td>Blue</td>\n",
              "      <td>8086.0</td>\n",
              "    </tr>\n",
              "    <tr>\n",
              "      <th>13</th>\n",
              "      <td>357</td>\n",
              "      <td>711857733</td>\n",
              "      <td>Existing Customer</td>\n",
              "      <td>49</td>\n",
              "      <td>M</td>\n",
              "      <td>Uneducated</td>\n",
              "      <td>Single</td>\n",
              "      <td>$60K - $80K</td>\n",
              "      <td>Blue</td>\n",
              "      <td>18584.0</td>\n",
              "    </tr>\n",
              "    <tr>\n",
              "      <th>14</th>\n",
              "      <td>6562</td>\n",
              "      <td>720070383</td>\n",
              "      <td>Existing Customer</td>\n",
              "      <td>41</td>\n",
              "      <td>F</td>\n",
              "      <td>Uneducated</td>\n",
              "      <td>Single</td>\n",
              "      <td>Unknown</td>\n",
              "      <td>Blue</td>\n",
              "      <td>2429.0</td>\n",
              "    </tr>\n",
              "    <tr>\n",
              "      <th>17</th>\n",
              "      <td>5725</td>\n",
              "      <td>771079833</td>\n",
              "      <td>Existing Customer</td>\n",
              "      <td>40</td>\n",
              "      <td>F</td>\n",
              "      <td>High School</td>\n",
              "      <td>Single</td>\n",
              "      <td>Less than $40K</td>\n",
              "      <td>Blue</td>\n",
              "      <td>1438.3</td>\n",
              "    </tr>\n",
              "    <tr>\n",
              "      <th>18</th>\n",
              "      <td>2587</td>\n",
              "      <td>711639708</td>\n",
              "      <td>Existing Customer</td>\n",
              "      <td>42</td>\n",
              "      <td>M</td>\n",
              "      <td>Graduate</td>\n",
              "      <td>Single</td>\n",
              "      <td>$60K - $80K</td>\n",
              "      <td>Blue</td>\n",
              "      <td>1438.3</td>\n",
              "    </tr>\n",
              "  </tbody>\n",
              "</table>\n",
              "</div>\n",
              "      <button class=\"colab-df-convert\" onclick=\"convertToInteractive('df-0119d727-9122-4c05-9f6c-602729021b9c')\"\n",
              "              title=\"Convert this dataframe to an interactive table.\"\n",
              "              style=\"display:none;\">\n",
              "        \n",
              "  <svg xmlns=\"http://www.w3.org/2000/svg\" height=\"24px\"viewBox=\"0 0 24 24\"\n",
              "       width=\"24px\">\n",
              "    <path d=\"M0 0h24v24H0V0z\" fill=\"none\"/>\n",
              "    <path d=\"M18.56 5.44l.94 2.06.94-2.06 2.06-.94-2.06-.94-.94-2.06-.94 2.06-2.06.94zm-11 1L8.5 8.5l.94-2.06 2.06-.94-2.06-.94L8.5 2.5l-.94 2.06-2.06.94zm10 10l.94 2.06.94-2.06 2.06-.94-2.06-.94-.94-2.06-.94 2.06-2.06.94z\"/><path d=\"M17.41 7.96l-1.37-1.37c-.4-.4-.92-.59-1.43-.59-.52 0-1.04.2-1.43.59L10.3 9.45l-7.72 7.72c-.78.78-.78 2.05 0 2.83L4 21.41c.39.39.9.59 1.41.59.51 0 1.02-.2 1.41-.59l7.78-7.78 2.81-2.81c.8-.78.8-2.07 0-2.86zM5.41 20L4 18.59l7.72-7.72 1.47 1.35L5.41 20z\"/>\n",
              "  </svg>\n",
              "      </button>\n",
              "      \n",
              "  <style>\n",
              "    .colab-df-container {\n",
              "      display:flex;\n",
              "      flex-wrap:wrap;\n",
              "      gap: 12px;\n",
              "    }\n",
              "\n",
              "    .colab-df-convert {\n",
              "      background-color: #E8F0FE;\n",
              "      border: none;\n",
              "      border-radius: 50%;\n",
              "      cursor: pointer;\n",
              "      display: none;\n",
              "      fill: #1967D2;\n",
              "      height: 32px;\n",
              "      padding: 0 0 0 0;\n",
              "      width: 32px;\n",
              "    }\n",
              "\n",
              "    .colab-df-convert:hover {\n",
              "      background-color: #E2EBFA;\n",
              "      box-shadow: 0px 1px 2px rgba(60, 64, 67, 0.3), 0px 1px 3px 1px rgba(60, 64, 67, 0.15);\n",
              "      fill: #174EA6;\n",
              "    }\n",
              "\n",
              "    [theme=dark] .colab-df-convert {\n",
              "      background-color: #3B4455;\n",
              "      fill: #D2E3FC;\n",
              "    }\n",
              "\n",
              "    [theme=dark] .colab-df-convert:hover {\n",
              "      background-color: #434B5C;\n",
              "      box-shadow: 0px 1px 3px 1px rgba(0, 0, 0, 0.15);\n",
              "      filter: drop-shadow(0px 1px 2px rgba(0, 0, 0, 0.3));\n",
              "      fill: #FFFFFF;\n",
              "    }\n",
              "  </style>\n",
              "\n",
              "      <script>\n",
              "        const buttonEl =\n",
              "          document.querySelector('#df-0119d727-9122-4c05-9f6c-602729021b9c button.colab-df-convert');\n",
              "        buttonEl.style.display =\n",
              "          google.colab.kernel.accessAllowed ? 'block' : 'none';\n",
              "\n",
              "        async function convertToInteractive(key) {\n",
              "          const element = document.querySelector('#df-0119d727-9122-4c05-9f6c-602729021b9c');\n",
              "          const dataTable =\n",
              "            await google.colab.kernel.invokeFunction('convertToInteractive',\n",
              "                                                     [key], {});\n",
              "          if (!dataTable) return;\n",
              "\n",
              "          const docLinkHtml = 'Like what you see? Visit the ' +\n",
              "            '<a target=\"_blank\" href=https://colab.research.google.com/notebooks/data_table.ipynb>data table notebook</a>'\n",
              "            + ' to learn more about interactive tables.';\n",
              "          element.innerHTML = '';\n",
              "          dataTable['output_type'] = 'display_data';\n",
              "          await google.colab.output.renderOutput(dataTable, element);\n",
              "          const docLink = document.createElement('div');\n",
              "          docLink.innerHTML = docLinkHtml;\n",
              "          element.appendChild(docLink);\n",
              "        }\n",
              "      </script>\n",
              "    </div>\n",
              "  </div>\n",
              "  "
            ]
          },
          "metadata": {},
          "execution_count": 53
        }
      ]
    },
    {
      "cell_type": "code",
      "source": [
        "# Tampilkan info dataset (df.info()) dan berikan penjelasannya dalam bentuk teks atau comment\n",
        "df.info()"
      ],
      "metadata": {
        "id": "vm89zlTTOl4D",
        "colab": {
          "base_uri": "https://localhost:8080/"
        },
        "outputId": "85f80b42-9992-4228-df6b-db906e2132a6"
      },
      "execution_count": 54,
      "outputs": [
        {
          "output_type": "stream",
          "name": "stdout",
          "text": [
            "<class 'pandas.core.frame.DataFrame'>\n",
            "RangeIndex: 20 entries, 0 to 19\n",
            "Data columns (total 10 columns):\n",
            " #   Column           Non-Null Count  Dtype  \n",
            "---  ------           --------------  -----  \n",
            " 0   Unnamed: 0       20 non-null     int64  \n",
            " 1   CLIENTNUM        20 non-null     int64  \n",
            " 2   Attrition_Flag   20 non-null     object \n",
            " 3   Customer_Age     20 non-null     int64  \n",
            " 4   Gender           20 non-null     object \n",
            " 5   Education_Level  20 non-null     object \n",
            " 6   Marital_Status   20 non-null     object \n",
            " 7   Income_Category  20 non-null     object \n",
            " 8   Card_Category    20 non-null     object \n",
            " 9   Credit_Limit     20 non-null     float64\n",
            "dtypes: float64(1), int64(3), object(6)\n",
            "memory usage: 1.7+ KB\n"
          ]
        }
      ]
    },
    {
      "cell_type": "markdown",
      "source": [
        "Dengan menampilkan info dataset menggunakn (df.info()) akan menampilkan struktur dari sebuah DataFrame seperti type data nya, jumlah column, dll.\n",
        "\n",
        "1. Kolom \"Unnamed: 0\" memiliki 20 nilai yang tidak hilang dan tipe datanya adalah integer.\n",
        "2. Kolom \"CLIENTNUM\" memiliki 20 nilai yang tidak hilang dan tipe datanya adalah integer.\n",
        "3. Kolom \"Attrition_Flag\" memiliki 20 nilai yang tidak hilang dan tipe datanya adalah object (string).\n",
        "4. Kolom \"Customer_Age\" memiliki 20 nilai yang tidak hilang dan tipe datanya adalah integer.\n",
        "5. Kolom \"Gender\" memiliki 20 nilai yang tidak hilang dan tipe datanya adalah object (string).\n",
        "6. Kolom \"Education_Level\" memiliki 20 nilai yang tidak hilang dan tipe datanya adalah object (string).\n",
        "7. Kolom \"Marital_Status\" memiliki 20 nilai yang tidak hilang dan tipe datanya adalah object (string).\n",
        "8. Kolom \"Income_Category\" memiliki 20 nilai yang tidak hilang dan tipe datanya adalah object (string).\n",
        "9. Kolom \"Card_Category\" memiliki 20 nilai yang tidak hilang dan tipe datanya adalah object (string).\n",
        "10. Kolom \"Credit_Limit\" memiliki 20 nilai yang tidak hilang dan tipe datanya adalah float.\n",
        "\n",
        "\n",
        "---\n",
        "\n",
        "\n",
        "Total penggunaan memori oleh dataset ini adalah 1.7 KB."
      ],
      "metadata": {
        "id": "QlSQSm4wPVGY"
      }
    },
    {
      "cell_type": "code",
      "source": [
        "#@title Opsional (nilai plus)\n",
        "\n",
        "# Tampilkan nilai rata-rata, min,max, dan standar deviasi  untuk setiap kolom bertipe angka\n",
        "\n",
        "print(\"Kolom            : Unnamed:0\")\n",
        "print(\"Mean             : \",df[\"Unnamed: 0\"].mean())\n",
        "print(\"Min              : \", df[\"Unnamed: 0\"].min())\n",
        "print(\"Max              : \", df[\"Unnamed: 0\"].max())\n",
        "print(\"Standar Deviasi  : \",statistics.stdev(df[\"Unnamed: 0\"]))\n",
        "\n",
        "print(\"\\nKolom            : CLIENTNUM\")\n",
        "print(\"Mean             : \",df[\"CLIENTNUM\"].mean())\n",
        "print(\"Min              : \", df[\"CLIENTNUM\"].min())\n",
        "print(\"Max              : \", df[\"CLIENTNUM\"].max())\n",
        "print(\"Standar Deviasi  : \",statistics.stdev(df[\"CLIENTNUM\"]))\n",
        "\n",
        "print(\"\\nKolom            : Customer_Age\")\n",
        "print(\"Mean             : \",df[\"Customer_Age\"].mean())\n",
        "print(\"Min              : \", df[\"Customer_Age\"].min())\n",
        "print(\"Max              : \", df[\"Customer_Age\"].max())\n",
        "print(\"Standar Deviasi  : \",statistics.stdev(df[\"Customer_Age\"]))\n",
        "\n",
        "print(\"\\nKolom            : Credit_Limit\")\n",
        "print(\"Mean             : \",df[\"Credit_Limit\"].mean())\n",
        "print(\"Min              : \", df[\"Credit_Limit\"].min())\n",
        "print(\"Max              : \", df[\"Credit_Limit\"].max())\n",
        "print(\"Standar Deviasi  : \",statistics.stdev(df[\"Credit_Limit\"]))"
      ],
      "metadata": {
        "id": "Gk-aiwdCO3Tw",
        "colab": {
          "base_uri": "https://localhost:8080/"
        },
        "outputId": "1bd6e8a0-ba15-4a35-a143-8daba151ee88"
      },
      "execution_count": 55,
      "outputs": [
        {
          "output_type": "stream",
          "name": "stdout",
          "text": [
            "Kolom            : Unnamed:0\n",
            "Mean             :  6105.1\n",
            "Min              :  176\n",
            "Max              :  10084\n",
            "Standar Deviasi  :  2850.304026258473\n",
            "\n",
            "Kolom            : CLIENTNUM\n",
            "Mean             :  742489304.25\n",
            "Min              :  709222008\n",
            "Max              :  809844108\n",
            "Standar Deviasi  :  40455244.91809004\n",
            "\n",
            "Kolom            : Customer_Age\n",
            "Mean             :  47.25\n",
            "Min              :  32\n",
            "Max              :  59\n",
            "Standar Deviasi  :  7.859791077978707\n",
            "\n",
            "Kolom            : Credit_Limit\n",
            "Mean             :  8114.579999999999\n",
            "Min              :  1438.3\n",
            "Max              :  26792.0\n",
            "Standar Deviasi  :  8331.036819444946\n"
          ]
        }
      ]
    },
    {
      "cell_type": "markdown",
      "source": [
        "#### Explore Data"
      ],
      "metadata": {
        "id": "PmPSc7uV_XjV"
      }
    },
    {
      "cell_type": "markdown",
      "source": [
        "##### Visualisasi Comparison"
      ],
      "metadata": {
        "id": "OXfexpup_a6l"
      }
    },
    {
      "cell_type": "code",
      "source": [
        "df5 = pd.read_csv(\"ChurnBank.csv\")\n",
        "df5"
      ],
      "metadata": {
        "colab": {
          "base_uri": "https://localhost:8080/",
          "height": 676
        },
        "id": "2wMYIBHpQZj6",
        "outputId": "6fa05ef8-9956-4490-9d91-88cf27a948e1"
      },
      "execution_count": 56,
      "outputs": [
        {
          "output_type": "execute_result",
          "data": {
            "text/plain": [
              "    Unnamed: 0  CLIENTNUM     Attrition_Flag  Customer_Age Gender  \\\n",
              "0         6036  720010608  Attrited Customer            37      M   \n",
              "1         6684  711323283  Attrited Customer            57      M   \n",
              "2         4272  794707083  Attrited Customer            50      M   \n",
              "3         9759  709657533  Attrited Customer            44      M   \n",
              "4         4740  716625033  Attrited Customer            32      F   \n",
              "5         9597  715076358  Attrited Customer            57      M   \n",
              "6         5009  804829533  Attrited Customer            59      M   \n",
              "7         8200  712144158  Attrited Customer            53      F   \n",
              "8         5016  795599883  Attrited Customer            57      F   \n",
              "9         8350  709222008  Attrited Customer            41      M   \n",
              "10        8139  809844108  Existing Customer            48      M   \n",
              "11         176  716264358  Existing Customer            53      M   \n",
              "12        8020  778163508  Existing Customer            37      F   \n",
              "13         357  711857733  Existing Customer            49      M   \n",
              "14        6562  720070383  Existing Customer            41      F   \n",
              "15        4563  809809008  Existing Customer            47      F   \n",
              "16       10084  718161708  Existing Customer            46      F   \n",
              "17        5725  771079833  Existing Customer            40      F   \n",
              "18        2587  711639708  Existing Customer            42      M   \n",
              "19        8226  713700258  Existing Customer            55      F   \n",
              "\n",
              "   Education_Level Marital_Status Income_Category Card_Category  Credit_Limit  \n",
              "0          Unknown         Single     $40K - $60K          Blue       10226.0  \n",
              "1       Uneducated        Married     $60K - $80K          Blue        2527.0  \n",
              "2          College         Single    $80K - $120K          Blue        3495.0  \n",
              "3      High School        Unknown         $120K +          Blue        7793.0  \n",
              "4         Graduate         Single  Less than $40K          Blue        2761.0  \n",
              "5    Post-Graduate        Unknown    $80K - $120K          Blue       23714.0  \n",
              "6      High School         Single     $60K - $80K          Blue       24621.0  \n",
              "7         Graduate         Single  Less than $40K          Blue        2370.0  \n",
              "8       Uneducated        Married         Unknown          Blue        2404.0  \n",
              "9          Unknown         Single    $80K - $120K          Blue        4742.0  \n",
              "10       Doctorate         Single     $60K - $80K          Blue        8086.0  \n",
              "11      Uneducated        Married    $80K - $120K          Blue       26792.0  \n",
              "12     High School        Married         Unknown          Blue        5245.0  \n",
              "13      Uneducated         Single     $60K - $80K          Blue       18584.0  \n",
              "14      Uneducated         Single         Unknown          Blue        2429.0  \n",
              "15        Graduate        Married  Less than $40K          Blue        3111.0  \n",
              "16        Graduate        Married  Less than $40K          Blue        7562.0  \n",
              "17     High School         Single  Less than $40K          Blue        1438.3  \n",
              "18        Graduate         Single     $60K - $80K          Blue        1438.3  \n",
              "19   Post-Graduate        Married         Unknown          Blue        2953.0  "
            ],
            "text/html": [
              "\n",
              "  <div id=\"df-b1f9b195-1811-4353-89d4-7be75921d29c\">\n",
              "    <div class=\"colab-df-container\">\n",
              "      <div>\n",
              "<style scoped>\n",
              "    .dataframe tbody tr th:only-of-type {\n",
              "        vertical-align: middle;\n",
              "    }\n",
              "\n",
              "    .dataframe tbody tr th {\n",
              "        vertical-align: top;\n",
              "    }\n",
              "\n",
              "    .dataframe thead th {\n",
              "        text-align: right;\n",
              "    }\n",
              "</style>\n",
              "<table border=\"1\" class=\"dataframe\">\n",
              "  <thead>\n",
              "    <tr style=\"text-align: right;\">\n",
              "      <th></th>\n",
              "      <th>Unnamed: 0</th>\n",
              "      <th>CLIENTNUM</th>\n",
              "      <th>Attrition_Flag</th>\n",
              "      <th>Customer_Age</th>\n",
              "      <th>Gender</th>\n",
              "      <th>Education_Level</th>\n",
              "      <th>Marital_Status</th>\n",
              "      <th>Income_Category</th>\n",
              "      <th>Card_Category</th>\n",
              "      <th>Credit_Limit</th>\n",
              "    </tr>\n",
              "  </thead>\n",
              "  <tbody>\n",
              "    <tr>\n",
              "      <th>0</th>\n",
              "      <td>6036</td>\n",
              "      <td>720010608</td>\n",
              "      <td>Attrited Customer</td>\n",
              "      <td>37</td>\n",
              "      <td>M</td>\n",
              "      <td>Unknown</td>\n",
              "      <td>Single</td>\n",
              "      <td>$40K - $60K</td>\n",
              "      <td>Blue</td>\n",
              "      <td>10226.0</td>\n",
              "    </tr>\n",
              "    <tr>\n",
              "      <th>1</th>\n",
              "      <td>6684</td>\n",
              "      <td>711323283</td>\n",
              "      <td>Attrited Customer</td>\n",
              "      <td>57</td>\n",
              "      <td>M</td>\n",
              "      <td>Uneducated</td>\n",
              "      <td>Married</td>\n",
              "      <td>$60K - $80K</td>\n",
              "      <td>Blue</td>\n",
              "      <td>2527.0</td>\n",
              "    </tr>\n",
              "    <tr>\n",
              "      <th>2</th>\n",
              "      <td>4272</td>\n",
              "      <td>794707083</td>\n",
              "      <td>Attrited Customer</td>\n",
              "      <td>50</td>\n",
              "      <td>M</td>\n",
              "      <td>College</td>\n",
              "      <td>Single</td>\n",
              "      <td>$80K - $120K</td>\n",
              "      <td>Blue</td>\n",
              "      <td>3495.0</td>\n",
              "    </tr>\n",
              "    <tr>\n",
              "      <th>3</th>\n",
              "      <td>9759</td>\n",
              "      <td>709657533</td>\n",
              "      <td>Attrited Customer</td>\n",
              "      <td>44</td>\n",
              "      <td>M</td>\n",
              "      <td>High School</td>\n",
              "      <td>Unknown</td>\n",
              "      <td>$120K +</td>\n",
              "      <td>Blue</td>\n",
              "      <td>7793.0</td>\n",
              "    </tr>\n",
              "    <tr>\n",
              "      <th>4</th>\n",
              "      <td>4740</td>\n",
              "      <td>716625033</td>\n",
              "      <td>Attrited Customer</td>\n",
              "      <td>32</td>\n",
              "      <td>F</td>\n",
              "      <td>Graduate</td>\n",
              "      <td>Single</td>\n",
              "      <td>Less than $40K</td>\n",
              "      <td>Blue</td>\n",
              "      <td>2761.0</td>\n",
              "    </tr>\n",
              "    <tr>\n",
              "      <th>5</th>\n",
              "      <td>9597</td>\n",
              "      <td>715076358</td>\n",
              "      <td>Attrited Customer</td>\n",
              "      <td>57</td>\n",
              "      <td>M</td>\n",
              "      <td>Post-Graduate</td>\n",
              "      <td>Unknown</td>\n",
              "      <td>$80K - $120K</td>\n",
              "      <td>Blue</td>\n",
              "      <td>23714.0</td>\n",
              "    </tr>\n",
              "    <tr>\n",
              "      <th>6</th>\n",
              "      <td>5009</td>\n",
              "      <td>804829533</td>\n",
              "      <td>Attrited Customer</td>\n",
              "      <td>59</td>\n",
              "      <td>M</td>\n",
              "      <td>High School</td>\n",
              "      <td>Single</td>\n",
              "      <td>$60K - $80K</td>\n",
              "      <td>Blue</td>\n",
              "      <td>24621.0</td>\n",
              "    </tr>\n",
              "    <tr>\n",
              "      <th>7</th>\n",
              "      <td>8200</td>\n",
              "      <td>712144158</td>\n",
              "      <td>Attrited Customer</td>\n",
              "      <td>53</td>\n",
              "      <td>F</td>\n",
              "      <td>Graduate</td>\n",
              "      <td>Single</td>\n",
              "      <td>Less than $40K</td>\n",
              "      <td>Blue</td>\n",
              "      <td>2370.0</td>\n",
              "    </tr>\n",
              "    <tr>\n",
              "      <th>8</th>\n",
              "      <td>5016</td>\n",
              "      <td>795599883</td>\n",
              "      <td>Attrited Customer</td>\n",
              "      <td>57</td>\n",
              "      <td>F</td>\n",
              "      <td>Uneducated</td>\n",
              "      <td>Married</td>\n",
              "      <td>Unknown</td>\n",
              "      <td>Blue</td>\n",
              "      <td>2404.0</td>\n",
              "    </tr>\n",
              "    <tr>\n",
              "      <th>9</th>\n",
              "      <td>8350</td>\n",
              "      <td>709222008</td>\n",
              "      <td>Attrited Customer</td>\n",
              "      <td>41</td>\n",
              "      <td>M</td>\n",
              "      <td>Unknown</td>\n",
              "      <td>Single</td>\n",
              "      <td>$80K - $120K</td>\n",
              "      <td>Blue</td>\n",
              "      <td>4742.0</td>\n",
              "    </tr>\n",
              "    <tr>\n",
              "      <th>10</th>\n",
              "      <td>8139</td>\n",
              "      <td>809844108</td>\n",
              "      <td>Existing Customer</td>\n",
              "      <td>48</td>\n",
              "      <td>M</td>\n",
              "      <td>Doctorate</td>\n",
              "      <td>Single</td>\n",
              "      <td>$60K - $80K</td>\n",
              "      <td>Blue</td>\n",
              "      <td>8086.0</td>\n",
              "    </tr>\n",
              "    <tr>\n",
              "      <th>11</th>\n",
              "      <td>176</td>\n",
              "      <td>716264358</td>\n",
              "      <td>Existing Customer</td>\n",
              "      <td>53</td>\n",
              "      <td>M</td>\n",
              "      <td>Uneducated</td>\n",
              "      <td>Married</td>\n",
              "      <td>$80K - $120K</td>\n",
              "      <td>Blue</td>\n",
              "      <td>26792.0</td>\n",
              "    </tr>\n",
              "    <tr>\n",
              "      <th>12</th>\n",
              "      <td>8020</td>\n",
              "      <td>778163508</td>\n",
              "      <td>Existing Customer</td>\n",
              "      <td>37</td>\n",
              "      <td>F</td>\n",
              "      <td>High School</td>\n",
              "      <td>Married</td>\n",
              "      <td>Unknown</td>\n",
              "      <td>Blue</td>\n",
              "      <td>5245.0</td>\n",
              "    </tr>\n",
              "    <tr>\n",
              "      <th>13</th>\n",
              "      <td>357</td>\n",
              "      <td>711857733</td>\n",
              "      <td>Existing Customer</td>\n",
              "      <td>49</td>\n",
              "      <td>M</td>\n",
              "      <td>Uneducated</td>\n",
              "      <td>Single</td>\n",
              "      <td>$60K - $80K</td>\n",
              "      <td>Blue</td>\n",
              "      <td>18584.0</td>\n",
              "    </tr>\n",
              "    <tr>\n",
              "      <th>14</th>\n",
              "      <td>6562</td>\n",
              "      <td>720070383</td>\n",
              "      <td>Existing Customer</td>\n",
              "      <td>41</td>\n",
              "      <td>F</td>\n",
              "      <td>Uneducated</td>\n",
              "      <td>Single</td>\n",
              "      <td>Unknown</td>\n",
              "      <td>Blue</td>\n",
              "      <td>2429.0</td>\n",
              "    </tr>\n",
              "    <tr>\n",
              "      <th>15</th>\n",
              "      <td>4563</td>\n",
              "      <td>809809008</td>\n",
              "      <td>Existing Customer</td>\n",
              "      <td>47</td>\n",
              "      <td>F</td>\n",
              "      <td>Graduate</td>\n",
              "      <td>Married</td>\n",
              "      <td>Less than $40K</td>\n",
              "      <td>Blue</td>\n",
              "      <td>3111.0</td>\n",
              "    </tr>\n",
              "    <tr>\n",
              "      <th>16</th>\n",
              "      <td>10084</td>\n",
              "      <td>718161708</td>\n",
              "      <td>Existing Customer</td>\n",
              "      <td>46</td>\n",
              "      <td>F</td>\n",
              "      <td>Graduate</td>\n",
              "      <td>Married</td>\n",
              "      <td>Less than $40K</td>\n",
              "      <td>Blue</td>\n",
              "      <td>7562.0</td>\n",
              "    </tr>\n",
              "    <tr>\n",
              "      <th>17</th>\n",
              "      <td>5725</td>\n",
              "      <td>771079833</td>\n",
              "      <td>Existing Customer</td>\n",
              "      <td>40</td>\n",
              "      <td>F</td>\n",
              "      <td>High School</td>\n",
              "      <td>Single</td>\n",
              "      <td>Less than $40K</td>\n",
              "      <td>Blue</td>\n",
              "      <td>1438.3</td>\n",
              "    </tr>\n",
              "    <tr>\n",
              "      <th>18</th>\n",
              "      <td>2587</td>\n",
              "      <td>711639708</td>\n",
              "      <td>Existing Customer</td>\n",
              "      <td>42</td>\n",
              "      <td>M</td>\n",
              "      <td>Graduate</td>\n",
              "      <td>Single</td>\n",
              "      <td>$60K - $80K</td>\n",
              "      <td>Blue</td>\n",
              "      <td>1438.3</td>\n",
              "    </tr>\n",
              "    <tr>\n",
              "      <th>19</th>\n",
              "      <td>8226</td>\n",
              "      <td>713700258</td>\n",
              "      <td>Existing Customer</td>\n",
              "      <td>55</td>\n",
              "      <td>F</td>\n",
              "      <td>Post-Graduate</td>\n",
              "      <td>Married</td>\n",
              "      <td>Unknown</td>\n",
              "      <td>Blue</td>\n",
              "      <td>2953.0</td>\n",
              "    </tr>\n",
              "  </tbody>\n",
              "</table>\n",
              "</div>\n",
              "      <button class=\"colab-df-convert\" onclick=\"convertToInteractive('df-b1f9b195-1811-4353-89d4-7be75921d29c')\"\n",
              "              title=\"Convert this dataframe to an interactive table.\"\n",
              "              style=\"display:none;\">\n",
              "        \n",
              "  <svg xmlns=\"http://www.w3.org/2000/svg\" height=\"24px\"viewBox=\"0 0 24 24\"\n",
              "       width=\"24px\">\n",
              "    <path d=\"M0 0h24v24H0V0z\" fill=\"none\"/>\n",
              "    <path d=\"M18.56 5.44l.94 2.06.94-2.06 2.06-.94-2.06-.94-.94-2.06-.94 2.06-2.06.94zm-11 1L8.5 8.5l.94-2.06 2.06-.94-2.06-.94L8.5 2.5l-.94 2.06-2.06.94zm10 10l.94 2.06.94-2.06 2.06-.94-2.06-.94-.94-2.06-.94 2.06-2.06.94z\"/><path d=\"M17.41 7.96l-1.37-1.37c-.4-.4-.92-.59-1.43-.59-.52 0-1.04.2-1.43.59L10.3 9.45l-7.72 7.72c-.78.78-.78 2.05 0 2.83L4 21.41c.39.39.9.59 1.41.59.51 0 1.02-.2 1.41-.59l7.78-7.78 2.81-2.81c.8-.78.8-2.07 0-2.86zM5.41 20L4 18.59l7.72-7.72 1.47 1.35L5.41 20z\"/>\n",
              "  </svg>\n",
              "      </button>\n",
              "      \n",
              "  <style>\n",
              "    .colab-df-container {\n",
              "      display:flex;\n",
              "      flex-wrap:wrap;\n",
              "      gap: 12px;\n",
              "    }\n",
              "\n",
              "    .colab-df-convert {\n",
              "      background-color: #E8F0FE;\n",
              "      border: none;\n",
              "      border-radius: 50%;\n",
              "      cursor: pointer;\n",
              "      display: none;\n",
              "      fill: #1967D2;\n",
              "      height: 32px;\n",
              "      padding: 0 0 0 0;\n",
              "      width: 32px;\n",
              "    }\n",
              "\n",
              "    .colab-df-convert:hover {\n",
              "      background-color: #E2EBFA;\n",
              "      box-shadow: 0px 1px 2px rgba(60, 64, 67, 0.3), 0px 1px 3px 1px rgba(60, 64, 67, 0.15);\n",
              "      fill: #174EA6;\n",
              "    }\n",
              "\n",
              "    [theme=dark] .colab-df-convert {\n",
              "      background-color: #3B4455;\n",
              "      fill: #D2E3FC;\n",
              "    }\n",
              "\n",
              "    [theme=dark] .colab-df-convert:hover {\n",
              "      background-color: #434B5C;\n",
              "      box-shadow: 0px 1px 3px 1px rgba(0, 0, 0, 0.15);\n",
              "      filter: drop-shadow(0px 1px 2px rgba(0, 0, 0, 0.3));\n",
              "      fill: #FFFFFF;\n",
              "    }\n",
              "  </style>\n",
              "\n",
              "      <script>\n",
              "        const buttonEl =\n",
              "          document.querySelector('#df-b1f9b195-1811-4353-89d4-7be75921d29c button.colab-df-convert');\n",
              "        buttonEl.style.display =\n",
              "          google.colab.kernel.accessAllowed ? 'block' : 'none';\n",
              "\n",
              "        async function convertToInteractive(key) {\n",
              "          const element = document.querySelector('#df-b1f9b195-1811-4353-89d4-7be75921d29c');\n",
              "          const dataTable =\n",
              "            await google.colab.kernel.invokeFunction('convertToInteractive',\n",
              "                                                     [key], {});\n",
              "          if (!dataTable) return;\n",
              "\n",
              "          const docLinkHtml = 'Like what you see? Visit the ' +\n",
              "            '<a target=\"_blank\" href=https://colab.research.google.com/notebooks/data_table.ipynb>data table notebook</a>'\n",
              "            + ' to learn more about interactive tables.';\n",
              "          element.innerHTML = '';\n",
              "          dataTable['output_type'] = 'display_data';\n",
              "          await google.colab.output.renderOutput(dataTable, element);\n",
              "          const docLink = document.createElement('div');\n",
              "          docLink.innerHTML = docLinkHtml;\n",
              "          element.appendChild(docLink);\n",
              "        }\n",
              "      </script>\n",
              "    </div>\n",
              "  </div>\n",
              "  "
            ]
          },
          "metadata": {},
          "execution_count": 56
        }
      ]
    },
    {
      "cell_type": "code",
      "source": [
        "# Buatlah visualisasi yang menampilkan berapa banyak yang attired customer dan tidak"
      ],
      "metadata": {
        "id": "EIVBtry9_W5m"
      },
      "execution_count": null,
      "outputs": []
    },
    {
      "cell_type": "code",
      "source": [
        "sns.countplot(data=df,x=\"Attrition_Flag\")"
      ],
      "metadata": {
        "colab": {
          "base_uri": "https://localhost:8080/",
          "height": 297
        },
        "id": "DFqRYM0XJ3Zh",
        "outputId": "a7ade716-1f8d-4e9a-b45f-19bec7dd51fe"
      },
      "execution_count": 57,
      "outputs": [
        {
          "output_type": "execute_result",
          "data": {
            "text/plain": [
              "<AxesSubplot:xlabel='Attrition_Flag', ylabel='count'>"
            ]
          },
          "metadata": {},
          "execution_count": 57
        },
        {
          "output_type": "display_data",
          "data": {
            "text/plain": [
              "<Figure size 432x288 with 1 Axes>"
            ],
            "image/png": "[encoded data removed]"
          },
          "metadata": {
            "needs_background": "light"
          }
        }
      ]
    },
    {
      "cell_type": "code",
      "source": [
        "# Buatlah visualisasi yang menampilkan berapa banyak Education level berdasarkan kategori-kategorinya \n",
        "# contoh Unknown berapa dsb"
      ],
      "metadata": {
        "id": "UgQPmLrH_lbd"
      },
      "execution_count": null,
      "outputs": []
    },
    {
      "cell_type": "code",
      "source": [
        "sns.histplot(data=df5,x=\"Education_Level\",kde=True)"
      ],
      "metadata": {
        "colab": {
          "base_uri": "https://localhost:8080/",
          "height": 297
        },
        "id": "Qd1q5mQtJ-au",
        "outputId": "6adaaca6-4f99-4cde-8038-48b50fc14b27"
      },
      "execution_count": 58,
      "outputs": [
        {
          "output_type": "execute_result",
          "data": {
            "text/plain": [
              "<AxesSubplot:xlabel='Education_Level', ylabel='Count'>"
            ]
          },
          "metadata": {},
          "execution_count": 58
        },
        {
          "output_type": "display_data",
          "data": {
            "text/plain": [
              "<Figure size 432x288 with 1 Axes>"
            ],
            "image/png": "[encoded data removed]"
          },
          "metadata": {
            "needs_background": "light"
          }
        }
      ]
    },
    {
      "cell_type": "code",
      "source": [
        "sns.countplot(data=df[df[\"Gender\"] == \"M\"],x=\"Education_Level\")"
      ],
      "metadata": {
        "colab": {
          "base_uri": "https://localhost:8080/",
          "height": 297
        },
        "id": "3xaBtBbmKHRe",
        "outputId": "ce3a5915-af51-4247-fe29-58aaa068c424"
      },
      "execution_count": 59,
      "outputs": [
        {
          "output_type": "execute_result",
          "data": {
            "text/plain": [
              "<AxesSubplot:xlabel='Education_Level', ylabel='count'>"
            ]
          },
          "metadata": {},
          "execution_count": 59
        },
        {
          "output_type": "display_data",
          "data": {
            "text/plain": [
              "<Figure size 432x288 with 1 Axes>"
            ],
            "image/png": "[encoded data removed]"
          },
          "metadata": {
            "needs_background": "light"
          }
        }
      ]
    },
    {
      "cell_type": "code",
      "source": [
        "# Buatlah visualisasi yang menampilkan berapa banyak Education level berdasarkan gendernya\n",
        "# contoh M berapa F berapa"
      ],
      "metadata": {
        "id": "8Ahhq1TG__7k"
      },
      "execution_count": null,
      "outputs": []
    },
    {
      "cell_type": "code",
      "source": [
        "sns.countplot(data = df5, y=\"Education_Level\", hue=\"Gender\")"
      ],
      "metadata": {
        "colab": {
          "base_uri": "https://localhost:8080/",
          "height": 296
        },
        "id": "wyFVwJfcKUNU",
        "outputId": "07abfef4-8c06-4b82-e760-6be4b561f728"
      },
      "execution_count": 60,
      "outputs": [
        {
          "output_type": "execute_result",
          "data": {
            "text/plain": [
              "<AxesSubplot:xlabel='count', ylabel='Education_Level'>"
            ]
          },
          "metadata": {},
          "execution_count": 60
        },
        {
          "output_type": "display_data",
          "data": {
            "text/plain": [
              "<Figure size 432x288 with 1 Axes>"
            ],
            "image/png": "[encoded data removed]"
          },
          "metadata": {
            "needs_background": "light"
          }
        }
      ]
    },
    {
      "cell_type": "markdown",
      "source": [
        "1. Countplot : countplot untuk explorasi data sebagai object perbandingan jumlah data\n",
        "\n",
        "2. Histplot : Menggunakan Histogram plot untuk mendefinisikan Education_Level, lalu akan terlihat grafik pada histogram"
      ],
      "metadata": {
        "id": "l0RDSKIjPMae"
      }
    },
    {
      "cell_type": "markdown",
      "source": [
        "##### Visualisasi Distribution\n"
      ],
      "metadata": {
        "id": "CAFZk0hOAEUT"
      }
    },
    {
      "cell_type": "code",
      "source": [
        "# Buatlah historgram untuk customer dan credit card limit"
      ],
      "metadata": {
        "id": "RX_wqpm7PPne"
      },
      "execution_count": null,
      "outputs": []
    },
    {
      "cell_type": "markdown",
      "source": [],
      "metadata": {
        "id": "q1s1Jg0MZ5vb"
      }
    },
    {
      "cell_type": "code",
      "source": [
        "sns.histplot(data= df, x=\"Customer_Age\", kde = True)"
      ],
      "metadata": {
        "colab": {
          "base_uri": "https://localhost:8080/",
          "height": 297
        },
        "id": "_xhGleFTKhOP",
        "outputId": "dc0c122b-8099-45e4-f87a-9fd6199a219c"
      },
      "execution_count": 61,
      "outputs": [
        {
          "output_type": "execute_result",
          "data": {
            "text/plain": [
              "<AxesSubplot:xlabel='Customer_Age', ylabel='Count'>"
            ]
          },
          "metadata": {},
          "execution_count": 61
        },
        {
          "output_type": "display_data",
          "data": {
            "text/plain": [
              "<Figure size 432x288 with 1 Axes>"
            ],
            "image/png": "[encoded data removed]"
          },
          "metadata": {
            "needs_background": "light"
          }
        }
      ]
    },
    {
      "cell_type": "code",
      "source": [
        "sns.histplot(data= df, x=\"Credit_Limit\", kde = True)"
      ],
      "metadata": {
        "colab": {
          "base_uri": "https://localhost:8080/",
          "height": 297
        },
        "id": "krESSJpNKq0H",
        "outputId": "59f232bd-07d2-4b40-cbf5-1924aa2f6dfd"
      },
      "execution_count": 62,
      "outputs": [
        {
          "output_type": "execute_result",
          "data": {
            "text/plain": [
              "<AxesSubplot:xlabel='Credit_Limit', ylabel='Count'>"
            ]
          },
          "metadata": {},
          "execution_count": 62
        },
        {
          "output_type": "display_data",
          "data": {
            "text/plain": [
              "<Figure size 432x288 with 1 Axes>"
            ],
            "image/png": "[encoded data removed]"
          },
          "metadata": {
            "needs_background": "light"
          }
        }
      ]
    },
    {
      "cell_type": "markdown",
      "source": [
        "1. x: Argumen ini merupakan nama kolom pada DataFrame data yang akan digunakan sebagai sumbu x dalam histogram.\n",
        "\n",
        "2. kde: Argumen ini adalah boolean (True/False) yang menentukan apakah akan menampilkan distribusi kernel (KDE) atau tidak. Jika True, maka distribusi KDE akan ditampilkan bersamaan dengan histogram.\n",
        "\n",
        "\n",
        "Sehingga sintaks tersebut akan menghasilkan visualisasi histogram dengan sumbu x adalah kolom \"Customer_Age\" atau \"Credit_Limit\" pada DataFrame df, serta menampilkan distribusi KDE di atas histogram."
      ],
      "metadata": {
        "id": "nDF13XQFaR5A"
      }
    },
    {
      "cell_type": "code",
      "source": [
        "# Buatlah boxplot untuk customer dan credit card limit"
      ],
      "metadata": {
        "id": "IcF_B1HmP7mO"
      },
      "execution_count": null,
      "outputs": []
    },
    {
      "cell_type": "code",
      "source": [
        "sns.boxplot(data=df,x=\"Customer_Age\")"
      ],
      "metadata": {
        "colab": {
          "base_uri": "https://localhost:8080/",
          "height": 297
        },
        "id": "ZlAYzXkHKxmY",
        "outputId": "fa8b5204-e388-4ea9-e838-b912486b5e55"
      },
      "execution_count": 63,
      "outputs": [
        {
          "output_type": "execute_result",
          "data": {
            "text/plain": [
              "<AxesSubplot:xlabel='Customer_Age'>"
            ]
          },
          "metadata": {},
          "execution_count": 63
        },
        {
          "output_type": "display_data",
          "data": {
            "text/plain": [
              "<Figure size 432x288 with 1 Axes>"
            ],
            "image/png": "[encoded data removed]"
          },
          "metadata": {
            "needs_background": "light"
          }
        }
      ]
    },
    {
      "cell_type": "code",
      "source": [
        "sns.boxplot(data=df,x=\"Credit_Limit\")"
      ],
      "metadata": {
        "colab": {
          "base_uri": "https://localhost:8080/",
          "height": 297
        },
        "id": "BJiLxr4pK6S6",
        "outputId": "ce664f5f-9f06-4bfb-a23d-f14d469659ee"
      },
      "execution_count": 64,
      "outputs": [
        {
          "output_type": "execute_result",
          "data": {
            "text/plain": [
              "<AxesSubplot:xlabel='Credit_Limit'>"
            ]
          },
          "metadata": {},
          "execution_count": 64
        },
        {
          "output_type": "display_data",
          "data": {
            "text/plain": [
              "<Figure size 432x288 with 1 Axes>"
            ],
            "image/png": "[encoded data removed]"
          },
          "metadata": {
            "needs_background": "light"
          }
        }
      ]
    },
    {
      "cell_type": "markdown",
      "source": [
        "1. Histogram : histogram untuk menunjukkan distribusi frekuensi pada data numerik\n",
        "\n",
        "2. Boxplot : boxplot untuk menggambarkan kelompok data numerik melalui setiap kuartil/bagian\n",
        "\n",
        "Penjelasan dari masing-masing argumen dalam sintaks tersebut adalah sebagai berikut:\n",
        "\n",
        "1. data: Argumen ini merupakan objek DataFrame yang berisi data yang akan divisualisasikan.\n",
        "2. x: Argumen ini merupakan nama kolom pada DataFrame data yang akan digunakan sebagai variabel dalam boxplot."
      ],
      "metadata": {
        "id": "v_TwvSa9P94E"
      }
    },
    {
      "cell_type": "markdown",
      "source": [
        "##### Visualisasi Relationship\n",
        "\n",
        "\n"
      ],
      "metadata": {
        "id": "ezkaX5QbPfNG"
      }
    },
    {
      "cell_type": "code",
      "source": [
        "# Buatlah scatterplot untuk umur customer dan credit card limit"
      ],
      "metadata": {
        "id": "y-lzGBWSP3b8"
      },
      "execution_count": null,
      "outputs": []
    },
    {
      "cell_type": "code",
      "source": [
        "sns.scatterplot(data=df,x=\"Customer_Age\",y=\"Credit_Limit\", s = 100);"
      ],
      "metadata": {
        "colab": {
          "base_uri": "https://localhost:8080/",
          "height": 280
        },
        "id": "jJltbcMKLA8k",
        "outputId": "cc4c3110-0902-4c27-f227-759d3310ebba"
      },
      "execution_count": 65,
      "outputs": [
        {
          "output_type": "display_data",
          "data": {
            "text/plain": [
              "<Figure size 432x288 with 1 Axes>"
            ],
            "image/png": "[encoded data removed]"
          },
          "metadata": {
            "needs_background": "light"
          }
        }
      ]
    },
    {
      "cell_type": "markdown",
      "source": [
        "##### Visualisasi Composition\n",
        "\n",
        "\n"
      ],
      "metadata": {
        "id": "5jEZ8lWTQWwG"
      }
    },
    {
      "cell_type": "code",
      "source": [
        "# Buatlah pieplot untuk Income Category & Education Level"
      ],
      "metadata": {
        "id": "hjPoni4qQWwH"
      },
      "execution_count": null,
      "outputs": []
    },
    {
      "cell_type": "code",
      "source": [
        "import plotly.express as px"
      ],
      "metadata": {
        "id": "63B2brtYLMwS"
      },
      "execution_count": 66,
      "outputs": []
    },
    {
      "cell_type": "code",
      "source": [
        "px.pie(df,names=\"Income_Category\")"
      ],
      "metadata": {
        "colab": {
          "base_uri": "https://localhost:8080/",
          "height": 542
        },
        "id": "BCXa7ptTLP2P",
        "outputId": "544f5cef-99cd-456d-c235-a33ef5472a58"
      },
      "execution_count": 67,
      "outputs": [
        {
          "output_type": "display_data",
          "data": {
            "text/html": [
              "<html>\n",
              "<head><meta charset=\"utf-8\" /></head>\n",
              "<body>\n",
              "    <div>            <script src=\"https://cdnjs.cloudflare.com/ajax/libs/mathjax/2.7.5/MathJax.js?config=TeX-AMS-MML_SVG\"></script><script type=\"text/javascript\">if (window.MathJax) {MathJax.Hub.Config({SVG: {font: \"STIX-Web\"}});}</script>                <script type=\"text/javascript\">window.PlotlyConfig = {MathJaxConfig: 'local'};</script>\n",
              "        <script src=\"https://cdn.plot.ly/plotly-2.8.3.min.js\"></script>                <div id=\"324b8400-cdbf-466e-a29f-0cd5cf8ad8dd\" class=\"plotly-graph-div\" style=\"height:525px; width:100%;\"></div>            <script type=\"text/javascript\">                                    window.PLOTLYENV=window.PLOTLYENV || {};                                    if (document.getElementById(\"324b8400-cdbf-466e-a29f-0cd5cf8ad8dd\")) {                    Plotly.newPlot(                        \"324b8400-cdbf-466e-a29f-0cd5cf8ad8dd\",                        [{\"domain\":{\"x\":[0.0,1.0],\"y\":[0.0,1.0]},\"hovertemplate\":\"Income_Category=%{label}<extra></extra>\",\"labels\":[\"$40K - $60K\",\"$60K - $80K\",\"$80K - $120K\",\"$120K +\",\"Less than $40K\",\"$80K - $120K\",\"$60K - $80K\",\"Less than $40K\",\"Unknown\",\"$80K - $120K\",\"$60K - $80K\",\"$80K - $120K\",\"Unknown\",\"$60K - $80K\",\"Unknown\",\"Less than $40K\",\"Less than $40K\",\"Less than $40K\",\"$60K - $80K\",\"Unknown\"],\"legendgroup\":\"\",\"name\":\"\",\"showlegend\":true,\"type\":\"pie\"}],                        {\"template\":{\"data\":{\"bar\":[{\"error_x\":{\"color\":\"#2a3f5f\"},\"error_y\":{\"color\":\"#2a3f5f\"},\"marker\":{\"line\":{\"color\":\"#E5ECF6\",\"width\":0.5},\"pattern\":{\"fillmode\":\"overlay\",\"size\":10,\"solidity\":0.2}},\"type\":\"bar\"}],\"barpolar\":[{\"marker\":{\"line\":{\"color\":\"#E5ECF6\",\"width\":0.5},\"pattern\":{\"fillmode\":\"overlay\",\"size\":10,\"solidity\":0.2}},\"type\":\"barpolar\"}],\"carpet\":[{\"aaxis\":{\"endlinecolor\":\"#2a3f5f\",\"gridcolor\":\"white\",\"linecolor\":\"white\",\"minorgridcolor\":\"white\",\"startlinecolor\":\"#2a3f5f\"},\"baxis\":{\"endlinecolor\":\"#2a3f5f\",\"gridcolor\":\"white\",\"linecolor\":\"white\",\"minorgridcolor\":\"white\",\"startlinecolor\":\"#2a3f5f\"},\"type\":\"carpet\"}],\"choropleth\":[{\"colorbar\":{\"outlinewidth\":0,\"ticks\":\"\"},\"type\":\"choropleth\"}],\"contour\":[{\"colorbar\":{\"outlinewidth\":0,\"ticks\":\"\"},\"colorscale\":[[0.0,\"#0d0887\"],[0.1111111111111111,\"#46039f\"],[0.2222222222222222,\"#7201a8\"],[0.3333333333333333,\"#9c179e\"],[0.4444444444444444,\"#bd3786\"],[0.5555555555555556,\"#d8576b\"],[0.6666666666666666,\"#ed7953\"],[0.7777777777777778,\"#fb9f3a\"],[0.8888888888888888,\"#fdca26\"],[1.0,\"#f0f921\"]],\"type\":\"contour\"}],\"contourcarpet\":[{\"colorbar\":{\"outlinewidth\":0,\"ticks\":\"\"},\"type\":\"contourcarpet\"}],\"heatmap\":[{\"colorbar\":{\"outlinewidth\":0,\"ticks\":\"\"},\"colorscale\":[[0.0,\"#0d0887\"],[0.1111111111111111,\"#46039f\"],[0.2222222222222222,\"#7201a8\"],[0.3333333333333333,\"#9c179e\"],[0.4444444444444444,\"#bd3786\"],[0.5555555555555556,\"#d8576b\"],[0.6666666666666666,\"#ed7953\"],[0.7777777777777778,\"#fb9f3a\"],[0.8888888888888888,\"#fdca26\"],[1.0,\"#f0f921\"]],\"type\":\"heatmap\"}],\"heatmapgl\":[{\"colorbar\":{\"outlinewidth\":0,\"ticks\":\"\"},\"colorscale\":[[0.0,\"#0d0887\"],[0.1111111111111111,\"#46039f\"],[0.2222222222222222,\"#7201a8\"],[0.3333333333333333,\"#9c179e\"],[0.4444444444444444,\"#bd3786\"],[0.5555555555555556,\"#d8576b\"],[0.6666666666666666,\"#ed7953\"],[0.7777777777777778,\"#fb9f3a\"],[0.8888888888888888,\"#fdca26\"],[1.0,\"#f0f921\"]],\"type\":\"heatmapgl\"}],\"histogram\":[{\"marker\":{\"pattern\":{\"fillmode\":\"overlay\",\"size\":10,\"solidity\":0.2}},\"type\":\"histogram\"}],\"histogram2d\":[{\"colorbar\":{\"outlinewidth\":0,\"ticks\":\"\"},\"colorscale\":[[0.0,\"#0d0887\"],[0.1111111111111111,\"#46039f\"],[0.2222222222222222,\"#7201a8\"],[0.3333333333333333,\"#9c179e\"],[0.4444444444444444,\"#bd3786\"],[0.5555555555555556,\"#d8576b\"],[0.6666666666666666,\"#ed7953\"],[0.7777777777777778,\"#fb9f3a\"],[0.8888888888888888,\"#fdca26\"],[1.0,\"#f0f921\"]],\"type\":\"histogram2d\"}],\"histogram2dcontour\":[{\"colorbar\":{\"outlinewidth\":0,\"ticks\":\"\"},\"colorscale\":[[0.0,\"#0d0887\"],[0.1111111111111111,\"#46039f\"],[0.2222222222222222,\"#7201a8\"],[0.3333333333333333,\"#9c179e\"],[0.4444444444444444,\"#bd3786\"],[0.5555555555555556,\"#d8576b\"],[0.6666666666666666,\"#ed7953\"],[0.7777777777777778,\"#fb9f3a\"],[0.8888888888888888,\"#fdca26\"],[1.0,\"#f0f921\"]],\"type\":\"histogram2dcontour\"}],\"mesh3d\":[{\"colorbar\":{\"outlinewidth\":0,\"ticks\":\"\"},\"type\":\"mesh3d\"}],\"parcoords\":[{\"line\":{\"colorbar\":{\"outlinewidth\":0,\"ticks\":\"\"}},\"type\":\"parcoords\"}],\"pie\":[{\"automargin\":true,\"type\":\"pie\"}],\"scatter\":[{\"marker\":{\"colorbar\":{\"outlinewidth\":0,\"ticks\":\"\"}},\"type\":\"scatter\"}],\"scatter3d\":[{\"line\":{\"colorbar\":{\"outlinewidth\":0,\"ticks\":\"\"}},\"marker\":{\"colorbar\":{\"outlinewidth\":0,\"ticks\":\"\"}},\"type\":\"scatter3d\"}],\"scattercarpet\":[{\"marker\":{\"colorbar\":{\"outlinewidth\":0,\"ticks\":\"\"}},\"type\":\"scattercarpet\"}],\"scattergeo\":[{\"marker\":{\"colorbar\":{\"outlinewidth\":0,\"ticks\":\"\"}},\"type\":\"scattergeo\"}],\"scattergl\":[{\"marker\":{\"colorbar\":{\"outlinewidth\":0,\"ticks\":\"\"}},\"type\":\"scattergl\"}],\"scattermapbox\":[{\"marker\":{\"colorbar\":{\"outlinewidth\":0,\"ticks\":\"\"}},\"type\":\"scattermapbox\"}],\"scatterpolar\":[{\"marker\":{\"colorbar\":{\"outlinewidth\":0,\"ticks\":\"\"}},\"type\":\"scatterpolar\"}],\"scatterpolargl\":[{\"marker\":{\"colorbar\":{\"outlinewidth\":0,\"ticks\":\"\"}},\"type\":\"scatterpolargl\"}],\"scatterternary\":[{\"marker\":{\"colorbar\":{\"outlinewidth\":0,\"ticks\":\"\"}},\"type\":\"scatterternary\"}],\"surface\":[{\"colorbar\":{\"outlinewidth\":0,\"ticks\":\"\"},\"colorscale\":[[0.0,\"#0d0887\"],[0.1111111111111111,\"#46039f\"],[0.2222222222222222,\"#7201a8\"],[0.3333333333333333,\"#9c179e\"],[0.4444444444444444,\"#bd3786\"],[0.5555555555555556,\"#d8576b\"],[0.6666666666666666,\"#ed7953\"],[0.7777777777777778,\"#fb9f3a\"],[0.8888888888888888,\"#fdca26\"],[1.0,\"#f0f921\"]],\"type\":\"surface\"}],\"table\":[{\"cells\":{\"fill\":{\"color\":\"#EBF0F8\"},\"line\":{\"color\":\"white\"}},\"header\":{\"fill\":{\"color\":\"#C8D4E3\"},\"line\":{\"color\":\"white\"}},\"type\":\"table\"}]},\"layout\":{\"annotationdefaults\":{\"arrowcolor\":\"#2a3f5f\",\"arrowhead\":0,\"arrowwidth\":1},\"autotypenumbers\":\"strict\",\"coloraxis\":{\"colorbar\":{\"outlinewidth\":0,\"ticks\":\"\"}},\"colorscale\":{\"diverging\":[[0,\"#8e0152\"],[0.1,\"#c51b7d\"],[0.2,\"#de77ae\"],[0.3,\"#f1b6da\"],[0.4,\"#fde0ef\"],[0.5,\"#f7f7f7\"],[0.6,\"#e6f5d0\"],[0.7,\"#b8e186\"],[0.8,\"#7fbc41\"],[0.9,\"#4d9221\"],[1,\"#276419\"]],\"sequential\":[[0.0,\"#0d0887\"],[0.1111111111111111,\"#46039f\"],[0.2222222222222222,\"#7201a8\"],[0.3333333333333333,\"#9c179e\"],[0.4444444444444444,\"#bd3786\"],[0.5555555555555556,\"#d8576b\"],[0.6666666666666666,\"#ed7953\"],[0.7777777777777778,\"#fb9f3a\"],[0.8888888888888888,\"#fdca26\"],[1.0,\"#f0f921\"]],\"sequentialminus\":[[0.0,\"#0d0887\"],[0.1111111111111111,\"#46039f\"],[0.2222222222222222,\"#7201a8\"],[0.3333333333333333,\"#9c179e\"],[0.4444444444444444,\"#bd3786\"],[0.5555555555555556,\"#d8576b\"],[0.6666666666666666,\"#ed7953\"],[0.7777777777777778,\"#fb9f3a\"],[0.8888888888888888,\"#fdca26\"],[1.0,\"#f0f921\"]]},\"colorway\":[\"#636efa\",\"#EF553B\",\"#00cc96\",\"#ab63fa\",\"#FFA15A\",\"#19d3f3\",\"#FF6692\",\"#B6E880\",\"#FF97FF\",\"#FECB52\"],\"font\":{\"color\":\"#2a3f5f\"},\"geo\":{\"bgcolor\":\"white\",\"lakecolor\":\"white\",\"landcolor\":\"#E5ECF6\",\"showlakes\":true,\"showland\":true,\"subunitcolor\":\"white\"},\"hoverlabel\":{\"align\":\"left\"},\"hovermode\":\"closest\",\"mapbox\":{\"style\":\"light\"},\"paper_bgcolor\":\"white\",\"plot_bgcolor\":\"#E5ECF6\",\"polar\":{\"angularaxis\":{\"gridcolor\":\"white\",\"linecolor\":\"white\",\"ticks\":\"\"},\"bgcolor\":\"#E5ECF6\",\"radialaxis\":{\"gridcolor\":\"white\",\"linecolor\":\"white\",\"ticks\":\"\"}},\"scene\":{\"xaxis\":{\"backgroundcolor\":\"#E5ECF6\",\"gridcolor\":\"white\",\"gridwidth\":2,\"linecolor\":\"white\",\"showbackground\":true,\"ticks\":\"\",\"zerolinecolor\":\"white\"},\"yaxis\":{\"backgroundcolor\":\"#E5ECF6\",\"gridcolor\":\"white\",\"gridwidth\":2,\"linecolor\":\"white\",\"showbackground\":true,\"ticks\":\"\",\"zerolinecolor\":\"white\"},\"zaxis\":{\"backgroundcolor\":\"#E5ECF6\",\"gridcolor\":\"white\",\"gridwidth\":2,\"linecolor\":\"white\",\"showbackground\":true,\"ticks\":\"\",\"zerolinecolor\":\"white\"}},\"shapedefaults\":{\"line\":{\"color\":\"#2a3f5f\"}},\"ternary\":{\"aaxis\":{\"gridcolor\":\"white\",\"linecolor\":\"white\",\"ticks\":\"\"},\"baxis\":{\"gridcolor\":\"white\",\"linecolor\":\"white\",\"ticks\":\"\"},\"bgcolor\":\"#E5ECF6\",\"caxis\":{\"gridcolor\":\"white\",\"linecolor\":\"white\",\"ticks\":\"\"}},\"title\":{\"x\":0.05},\"xaxis\":{\"automargin\":true,\"gridcolor\":\"white\",\"linecolor\":\"white\",\"ticks\":\"\",\"title\":{\"standoff\":15},\"zerolinecolor\":\"white\",\"zerolinewidth\":2},\"yaxis\":{\"automargin\":true,\"gridcolor\":\"white\",\"linecolor\":\"white\",\"ticks\":\"\",\"title\":{\"standoff\":15},\"zerolinecolor\":\"white\",\"zerolinewidth\":2}}},\"legend\":{\"tracegroupgap\":0},\"margin\":{\"t\":60}},                        {\"responsive\": true}                    ).then(function(){\n",
              "                            \n",
              "var gd = document.getElementById('324b8400-cdbf-466e-a29f-0cd5cf8ad8dd');\n",
              "var x = new MutationObserver(function (mutations, observer) {{\n",
              "        var display = window.getComputedStyle(gd).display;\n",
              "        if (!display || display === 'none') {{\n",
              "            console.log([gd, 'removed!']);\n",
              "            Plotly.purge(gd);\n",
              "            observer.disconnect();\n",
              "        }}\n",
              "}});\n",
              "\n",
              "// Listen for the removal of the full notebook cells\n",
              "var notebookContainer = gd.closest('#notebook-container');\n",
              "if (notebookContainer) {{\n",
              "    x.observe(notebookContainer, {childList: true});\n",
              "}}\n",
              "\n",
              "// Listen for the clearing of the current output cell\n",
              "var outputEl = gd.closest('.output');\n",
              "if (outputEl) {{\n",
              "    x.observe(outputEl, {childList: true});\n",
              "}}\n",
              "\n",
              "                        })                };                            </script>        </div>\n",
              "</body>\n",
              "</html>"
            ]
          },
          "metadata": {}
        }
      ]
    },
    {
      "cell_type": "code",
      "source": [
        "px.pie(df,names=\"Education_Level\")"
      ],
      "metadata": {
        "colab": {
          "base_uri": "https://localhost:8080/",
          "height": 542
        },
        "id": "eNVOFKgOLZbj",
        "outputId": "59373362-a51a-4edb-af93-7220e0c1ef6b"
      },
      "execution_count": 68,
      "outputs": [
        {
          "output_type": "display_data",
          "data": {
            "text/html": [
              "<html>\n",
              "<head><meta charset=\"utf-8\" /></head>\n",
              "<body>\n",
              "    <div>            <script src=\"https://cdnjs.cloudflare.com/ajax/libs/mathjax/2.7.5/MathJax.js?config=TeX-AMS-MML_SVG\"></script><script type=\"text/javascript\">if (window.MathJax) {MathJax.Hub.Config({SVG: {font: \"STIX-Web\"}});}</script>                <script type=\"text/javascript\">window.PlotlyConfig = {MathJaxConfig: 'local'};</script>\n",
              "        <script src=\"https://cdn.plot.ly/plotly-2.8.3.min.js\"></script>                <div id=\"39bb69eb-fa54-4ab0-8834-9f5411cac306\" class=\"plotly-graph-div\" style=\"height:525px; width:100%;\"></div>            <script type=\"text/javascript\">                                    window.PLOTLYENV=window.PLOTLYENV || {};                                    if (document.getElementById(\"39bb69eb-fa54-4ab0-8834-9f5411cac306\")) {                    Plotly.newPlot(                        \"39bb69eb-fa54-4ab0-8834-9f5411cac306\",                        [{\"domain\":{\"x\":[0.0,1.0],\"y\":[0.0,1.0]},\"hovertemplate\":\"Education_Level=%{label}<extra></extra>\",\"labels\":[\"Unknown\",\"Uneducated\",\"College\",\"High School\",\"Graduate\",\"Post-Graduate\",\"High School\",\"Graduate\",\"Uneducated\",\"Unknown\",\"Doctorate\",\"Uneducated\",\"High School\",\"Uneducated\",\"Uneducated\",\"Graduate\",\"Graduate\",\"High School\",\"Graduate\",\"Post-Graduate\"],\"legendgroup\":\"\",\"name\":\"\",\"showlegend\":true,\"type\":\"pie\"}],                        {\"template\":{\"data\":{\"bar\":[{\"error_x\":{\"color\":\"#2a3f5f\"},\"error_y\":{\"color\":\"#2a3f5f\"},\"marker\":{\"line\":{\"color\":\"#E5ECF6\",\"width\":0.5},\"pattern\":{\"fillmode\":\"overlay\",\"size\":10,\"solidity\":0.2}},\"type\":\"bar\"}],\"barpolar\":[{\"marker\":{\"line\":{\"color\":\"#E5ECF6\",\"width\":0.5},\"pattern\":{\"fillmode\":\"overlay\",\"size\":10,\"solidity\":0.2}},\"type\":\"barpolar\"}],\"carpet\":[{\"aaxis\":{\"endlinecolor\":\"#2a3f5f\",\"gridcolor\":\"white\",\"linecolor\":\"white\",\"minorgridcolor\":\"white\",\"startlinecolor\":\"#2a3f5f\"},\"baxis\":{\"endlinecolor\":\"#2a3f5f\",\"gridcolor\":\"white\",\"linecolor\":\"white\",\"minorgridcolor\":\"white\",\"startlinecolor\":\"#2a3f5f\"},\"type\":\"carpet\"}],\"choropleth\":[{\"colorbar\":{\"outlinewidth\":0,\"ticks\":\"\"},\"type\":\"choropleth\"}],\"contour\":[{\"colorbar\":{\"outlinewidth\":0,\"ticks\":\"\"},\"colorscale\":[[0.0,\"#0d0887\"],[0.1111111111111111,\"#46039f\"],[0.2222222222222222,\"#7201a8\"],[0.3333333333333333,\"#9c179e\"],[0.4444444444444444,\"#bd3786\"],[0.5555555555555556,\"#d8576b\"],[0.6666666666666666,\"#ed7953\"],[0.7777777777777778,\"#fb9f3a\"],[0.8888888888888888,\"#fdca26\"],[1.0,\"#f0f921\"]],\"type\":\"contour\"}],\"contourcarpet\":[{\"colorbar\":{\"outlinewidth\":0,\"ticks\":\"\"},\"type\":\"contourcarpet\"}],\"heatmap\":[{\"colorbar\":{\"outlinewidth\":0,\"ticks\":\"\"},\"colorscale\":[[0.0,\"#0d0887\"],[0.1111111111111111,\"#46039f\"],[0.2222222222222222,\"#7201a8\"],[0.3333333333333333,\"#9c179e\"],[0.4444444444444444,\"#bd3786\"],[0.5555555555555556,\"#d8576b\"],[0.6666666666666666,\"#ed7953\"],[0.7777777777777778,\"#fb9f3a\"],[0.8888888888888888,\"#fdca26\"],[1.0,\"#f0f921\"]],\"type\":\"heatmap\"}],\"heatmapgl\":[{\"colorbar\":{\"outlinewidth\":0,\"ticks\":\"\"},\"colorscale\":[[0.0,\"#0d0887\"],[0.1111111111111111,\"#46039f\"],[0.2222222222222222,\"#7201a8\"],[0.3333333333333333,\"#9c179e\"],[0.4444444444444444,\"#bd3786\"],[0.5555555555555556,\"#d8576b\"],[0.6666666666666666,\"#ed7953\"],[0.7777777777777778,\"#fb9f3a\"],[0.8888888888888888,\"#fdca26\"],[1.0,\"#f0f921\"]],\"type\":\"heatmapgl\"}],\"histogram\":[{\"marker\":{\"pattern\":{\"fillmode\":\"overlay\",\"size\":10,\"solidity\":0.2}},\"type\":\"histogram\"}],\"histogram2d\":[{\"colorbar\":{\"outlinewidth\":0,\"ticks\":\"\"},\"colorscale\":[[0.0,\"#0d0887\"],[0.1111111111111111,\"#46039f\"],[0.2222222222222222,\"#7201a8\"],[0.3333333333333333,\"#9c179e\"],[0.4444444444444444,\"#bd3786\"],[0.5555555555555556,\"#d8576b\"],[0.6666666666666666,\"#ed7953\"],[0.7777777777777778,\"#fb9f3a\"],[0.8888888888888888,\"#fdca26\"],[1.0,\"#f0f921\"]],\"type\":\"histogram2d\"}],\"histogram2dcontour\":[{\"colorbar\":{\"outlinewidth\":0,\"ticks\":\"\"},\"colorscale\":[[0.0,\"#0d0887\"],[0.1111111111111111,\"#46039f\"],[0.2222222222222222,\"#7201a8\"],[0.3333333333333333,\"#9c179e\"],[0.4444444444444444,\"#bd3786\"],[0.5555555555555556,\"#d8576b\"],[0.6666666666666666,\"#ed7953\"],[0.7777777777777778,\"#fb9f3a\"],[0.8888888888888888,\"#fdca26\"],[1.0,\"#f0f921\"]],\"type\":\"histogram2dcontour\"}],\"mesh3d\":[{\"colorbar\":{\"outlinewidth\":0,\"ticks\":\"\"},\"type\":\"mesh3d\"}],\"parcoords\":[{\"line\":{\"colorbar\":{\"outlinewidth\":0,\"ticks\":\"\"}},\"type\":\"parcoords\"}],\"pie\":[{\"automargin\":true,\"type\":\"pie\"}],\"scatter\":[{\"marker\":{\"colorbar\":{\"outlinewidth\":0,\"ticks\":\"\"}},\"type\":\"scatter\"}],\"scatter3d\":[{\"line\":{\"colorbar\":{\"outlinewidth\":0,\"ticks\":\"\"}},\"marker\":{\"colorbar\":{\"outlinewidth\":0,\"ticks\":\"\"}},\"type\":\"scatter3d\"}],\"scattercarpet\":[{\"marker\":{\"colorbar\":{\"outlinewidth\":0,\"ticks\":\"\"}},\"type\":\"scattercarpet\"}],\"scattergeo\":[{\"marker\":{\"colorbar\":{\"outlinewidth\":0,\"ticks\":\"\"}},\"type\":\"scattergeo\"}],\"scattergl\":[{\"marker\":{\"colorbar\":{\"outlinewidth\":0,\"ticks\":\"\"}},\"type\":\"scattergl\"}],\"scattermapbox\":[{\"marker\":{\"colorbar\":{\"outlinewidth\":0,\"ticks\":\"\"}},\"type\":\"scattermapbox\"}],\"scatterpolar\":[{\"marker\":{\"colorbar\":{\"outlinewidth\":0,\"ticks\":\"\"}},\"type\":\"scatterpolar\"}],\"scatterpolargl\":[{\"marker\":{\"colorbar\":{\"outlinewidth\":0,\"ticks\":\"\"}},\"type\":\"scatterpolargl\"}],\"scatterternary\":[{\"marker\":{\"colorbar\":{\"outlinewidth\":0,\"ticks\":\"\"}},\"type\":\"scatterternary\"}],\"surface\":[{\"colorbar\":{\"outlinewidth\":0,\"ticks\":\"\"},\"colorscale\":[[0.0,\"#0d0887\"],[0.1111111111111111,\"#46039f\"],[0.2222222222222222,\"#7201a8\"],[0.3333333333333333,\"#9c179e\"],[0.4444444444444444,\"#bd3786\"],[0.5555555555555556,\"#d8576b\"],[0.6666666666666666,\"#ed7953\"],[0.7777777777777778,\"#fb9f3a\"],[0.8888888888888888,\"#fdca26\"],[1.0,\"#f0f921\"]],\"type\":\"surface\"}],\"table\":[{\"cells\":{\"fill\":{\"color\":\"#EBF0F8\"},\"line\":{\"color\":\"white\"}},\"header\":{\"fill\":{\"color\":\"#C8D4E3\"},\"line\":{\"color\":\"white\"}},\"type\":\"table\"}]},\"layout\":{\"annotationdefaults\":{\"arrowcolor\":\"#2a3f5f\",\"arrowhead\":0,\"arrowwidth\":1},\"autotypenumbers\":\"strict\",\"coloraxis\":{\"colorbar\":{\"outlinewidth\":0,\"ticks\":\"\"}},\"colorscale\":{\"diverging\":[[0,\"#8e0152\"],[0.1,\"#c51b7d\"],[0.2,\"#de77ae\"],[0.3,\"#f1b6da\"],[0.4,\"#fde0ef\"],[0.5,\"#f7f7f7\"],[0.6,\"#e6f5d0\"],[0.7,\"#b8e186\"],[0.8,\"#7fbc41\"],[0.9,\"#4d9221\"],[1,\"#276419\"]],\"sequential\":[[0.0,\"#0d0887\"],[0.1111111111111111,\"#46039f\"],[0.2222222222222222,\"#7201a8\"],[0.3333333333333333,\"#9c179e\"],[0.4444444444444444,\"#bd3786\"],[0.5555555555555556,\"#d8576b\"],[0.6666666666666666,\"#ed7953\"],[0.7777777777777778,\"#fb9f3a\"],[0.8888888888888888,\"#fdca26\"],[1.0,\"#f0f921\"]],\"sequentialminus\":[[0.0,\"#0d0887\"],[0.1111111111111111,\"#46039f\"],[0.2222222222222222,\"#7201a8\"],[0.3333333333333333,\"#9c179e\"],[0.4444444444444444,\"#bd3786\"],[0.5555555555555556,\"#d8576b\"],[0.6666666666666666,\"#ed7953\"],[0.7777777777777778,\"#fb9f3a\"],[0.8888888888888888,\"#fdca26\"],[1.0,\"#f0f921\"]]},\"colorway\":[\"#636efa\",\"#EF553B\",\"#00cc96\",\"#ab63fa\",\"#FFA15A\",\"#19d3f3\",\"#FF6692\",\"#B6E880\",\"#FF97FF\",\"#FECB52\"],\"font\":{\"color\":\"#2a3f5f\"},\"geo\":{\"bgcolor\":\"white\",\"lakecolor\":\"white\",\"landcolor\":\"#E5ECF6\",\"showlakes\":true,\"showland\":true,\"subunitcolor\":\"white\"},\"hoverlabel\":{\"align\":\"left\"},\"hovermode\":\"closest\",\"mapbox\":{\"style\":\"light\"},\"paper_bgcolor\":\"white\",\"plot_bgcolor\":\"#E5ECF6\",\"polar\":{\"angularaxis\":{\"gridcolor\":\"white\",\"linecolor\":\"white\",\"ticks\":\"\"},\"bgcolor\":\"#E5ECF6\",\"radialaxis\":{\"gridcolor\":\"white\",\"linecolor\":\"white\",\"ticks\":\"\"}},\"scene\":{\"xaxis\":{\"backgroundcolor\":\"#E5ECF6\",\"gridcolor\":\"white\",\"gridwidth\":2,\"linecolor\":\"white\",\"showbackground\":true,\"ticks\":\"\",\"zerolinecolor\":\"white\"},\"yaxis\":{\"backgroundcolor\":\"#E5ECF6\",\"gridcolor\":\"white\",\"gridwidth\":2,\"linecolor\":\"white\",\"showbackground\":true,\"ticks\":\"\",\"zerolinecolor\":\"white\"},\"zaxis\":{\"backgroundcolor\":\"#E5ECF6\",\"gridcolor\":\"white\",\"gridwidth\":2,\"linecolor\":\"white\",\"showbackground\":true,\"ticks\":\"\",\"zerolinecolor\":\"white\"}},\"shapedefaults\":{\"line\":{\"color\":\"#2a3f5f\"}},\"ternary\":{\"aaxis\":{\"gridcolor\":\"white\",\"linecolor\":\"white\",\"ticks\":\"\"},\"baxis\":{\"gridcolor\":\"white\",\"linecolor\":\"white\",\"ticks\":\"\"},\"bgcolor\":\"#E5ECF6\",\"caxis\":{\"gridcolor\":\"white\",\"linecolor\":\"white\",\"ticks\":\"\"}},\"title\":{\"x\":0.05},\"xaxis\":{\"automargin\":true,\"gridcolor\":\"white\",\"linecolor\":\"white\",\"ticks\":\"\",\"title\":{\"standoff\":15},\"zerolinecolor\":\"white\",\"zerolinewidth\":2},\"yaxis\":{\"automargin\":true,\"gridcolor\":\"white\",\"linecolor\":\"white\",\"ticks\":\"\",\"title\":{\"standoff\":15},\"zerolinecolor\":\"white\",\"zerolinewidth\":2}}},\"legend\":{\"tracegroupgap\":0},\"margin\":{\"t\":60}},                        {\"responsive\": true}                    ).then(function(){\n",
              "                            \n",
              "var gd = document.getElementById('39bb69eb-fa54-4ab0-8834-9f5411cac306');\n",
              "var x = new MutationObserver(function (mutations, observer) {{\n",
              "        var display = window.getComputedStyle(gd).display;\n",
              "        if (!display || display === 'none') {{\n",
              "            console.log([gd, 'removed!']);\n",
              "            Plotly.purge(gd);\n",
              "            observer.disconnect();\n",
              "        }}\n",
              "}});\n",
              "\n",
              "// Listen for the removal of the full notebook cells\n",
              "var notebookContainer = gd.closest('#notebook-container');\n",
              "if (notebookContainer) {{\n",
              "    x.observe(notebookContainer, {childList: true});\n",
              "}}\n",
              "\n",
              "// Listen for the clearing of the current output cell\n",
              "var outputEl = gd.closest('.output');\n",
              "if (outputEl) {{\n",
              "    x.observe(outputEl, {childList: true});\n",
              "}}\n",
              "\n",
              "                        })                };                            </script>        </div>\n",
              "</body>\n",
              "</html>"
            ]
          },
          "metadata": {}
        }
      ]
    },
    {
      "cell_type": "markdown",
      "source": [
        "### Opsional (Nilai Plus)"
      ],
      "metadata": {
        "id": "rNiY6kMdQlqj"
      }
    },
    {
      "cell_type": "markdown",
      "source": [
        "boxplot"
      ],
      "metadata": {
        "id": "9i6Dr7oGLmHv"
      }
    },
    {
      "cell_type": "code",
      "source": [
        "# Buatlah visualisasi boxplot Credit Card Limit dengan Jenis Kelamin sebagai pemisahnya (color)"
      ],
      "metadata": {
        "id": "S5YG0MSeQpKh"
      },
      "execution_count": null,
      "outputs": []
    },
    {
      "cell_type": "code",
      "source": [
        "sns.boxplot(x=\"Gender\",y=\"Credit_Limit\",hue=\"Gender\",data=df)"
      ],
      "metadata": {
        "colab": {
          "base_uri": "https://localhost:8080/",
          "height": 296
        },
        "id": "I87y9-4LLrGB",
        "outputId": "7bbb156a-a658-4419-a98c-b753e00be8dd"
      },
      "execution_count": 69,
      "outputs": [
        {
          "output_type": "execute_result",
          "data": {
            "text/plain": [
              "<AxesSubplot:xlabel='Gender', ylabel='Credit_Limit'>"
            ]
          },
          "metadata": {},
          "execution_count": 69
        },
        {
          "output_type": "display_data",
          "data": {
            "text/plain": [
              "<Figure size 432x288 with 1 Axes>"
            ],
            "image/png": "[encoded data removed]"
          },
          "metadata": {
            "needs_background": "light"
          }
        }
      ]
    },
    {
      "cell_type": "code",
      "source": [
        "# Buatlah visualisasi boxplot Credit Card Limit dengan Attrition Flag sebagai pemisahnya (color)"
      ],
      "metadata": {
        "id": "T1b84fGPQ4OZ"
      },
      "execution_count": null,
      "outputs": []
    },
    {
      "cell_type": "code",
      "source": [
        "sns.boxplot(data=df,x=\"Attrition_Flag\",y=\"Credit_Limit\",hue=\"Attrition_Flag\")"
      ],
      "metadata": {
        "colab": {
          "base_uri": "https://localhost:8080/",
          "height": 297
        },
        "id": "fCF7WNo4L1Rd",
        "outputId": "ab5f6160-65e8-4ac4-f801-1dda999bae60"
      },
      "execution_count": 70,
      "outputs": [
        {
          "output_type": "execute_result",
          "data": {
            "text/plain": [
              "<AxesSubplot:xlabel='Attrition_Flag', ylabel='Credit_Limit'>"
            ]
          },
          "metadata": {},
          "execution_count": 70
        },
        {
          "output_type": "display_data",
          "data": {
            "text/plain": [
              "<Figure size 432x288 with 1 Axes>"
            ],
            "image/png": "[encoded data removed]"
          },
          "metadata": {
            "needs_background": "light"
          }
        }
      ]
    },
    {
      "cell_type": "code",
      "source": [
        "# Buatlah visualisasi boxplot Age dengan Attrition Flag sebagai pemisahnya (color)"
      ],
      "metadata": {
        "id": "9VGH1FdjQ_i4"
      },
      "execution_count": null,
      "outputs": []
    },
    {
      "cell_type": "code",
      "source": [
        "sns.boxplot(data=df,x='Attrition_Flag', y='Customer_Age')"
      ],
      "metadata": {
        "colab": {
          "base_uri": "https://localhost:8080/",
          "height": 299
        },
        "id": "WZPdj84lMVfH",
        "outputId": "658cda19-7b92-4fcd-bdd9-0d0be4a02467"
      },
      "execution_count": 71,
      "outputs": [
        {
          "output_type": "execute_result",
          "data": {
            "text/plain": [
              "<AxesSubplot:xlabel='Attrition_Flag', ylabel='Customer_Age'>"
            ]
          },
          "metadata": {},
          "execution_count": 71
        },
        {
          "output_type": "display_data",
          "data": {
            "text/plain": [
              "<Figure size 432x288 with 1 Axes>"
            ],
            "image/png": "[encoded data removed]"
          },
          "metadata": {
            "needs_background": "light"
          }
        }
      ]
    },
    {
      "cell_type": "code",
      "source": [
        "# Buatlah visualisasi countplot  Attrition Flag dengan jenis kelamin sebagai pemisahnya (color)"
      ],
      "metadata": {
        "id": "lkh33qRARKup"
      },
      "execution_count": null,
      "outputs": []
    },
    {
      "cell_type": "code",
      "source": [
        "sns.countplot(data=df,x=\"Attrition_Flag\",hue=\"Gender\")"
      ],
      "metadata": {
        "colab": {
          "base_uri": "https://localhost:8080/",
          "height": 297
        },
        "id": "3Q9Q50EvMiIK",
        "outputId": "41e4727b-a5a2-453c-e3c6-9b25026f3e8a"
      },
      "execution_count": 72,
      "outputs": [
        {
          "output_type": "execute_result",
          "data": {
            "text/plain": [
              "<AxesSubplot:xlabel='Attrition_Flag', ylabel='count'>"
            ]
          },
          "metadata": {},
          "execution_count": 72
        },
        {
          "output_type": "display_data",
          "data": {
            "text/plain": [
              "<Figure size 432x288 with 1 Axes>"
            ],
            "image/png": "[encoded data removed]"
          },
          "metadata": {
            "needs_background": "light"
          }
        }
      ]
    },
    {
      "cell_type": "code",
      "source": [
        "# Buatlah visualisasi heatmap untuk Setiap variabel numerik yang ada"
      ],
      "metadata": {
        "id": "BmcfGNL1Rdb_"
      },
      "execution_count": null,
      "outputs": []
    },
    {
      "cell_type": "code",
      "source": [
        "numerical_vars = ['Unnamed: 0','CLIENTNUM','Customer_Age','Credit_Limit']\n",
        "\n",
        "sns.heatmap(df[numerical_vars].corr(), annot=True, cmap='coolwarm')"
      ],
      "metadata": {
        "colab": {
          "base_uri": "https://localhost:8080/",
          "height": 287
        },
        "id": "btWzW5hSMt_F",
        "outputId": "4b7609b7-19c7-4899-b041-24305b6edaa1"
      },
      "execution_count": 73,
      "outputs": [
        {
          "output_type": "execute_result",
          "data": {
            "text/plain": [
              "<AxesSubplot:>"
            ]
          },
          "metadata": {},
          "execution_count": 73
        },
        {
          "output_type": "display_data",
          "data": {
            "text/plain": [
              "<Figure size 432x288 with 2 Axes>"
            ],
            "image/png": "[encoded data removed]"
          },
          "metadata": {
            "needs_background": "light"
          }
        }
      ]
    },
    {
      "cell_type": "markdown",
      "source": [
        "## Algoritma Naive Bayes dan Preprocessing (pengenalan)"
      ],
      "metadata": {
        "id": "2W-0dXGMRm5g"
      }
    },
    {
      "cell_type": "code",
      "source": [
        "# sebelum membuat algoritma pertama tama buatlah dataset baru dengan ketentuan\n",
        "# mengambil dataset df\n",
        "# Menghapus kolom Unnamed: 0, CLIENTNUM, Umur, dan Limit Kartu Kredit (initinya yang berupa primary key dan bukan tipe kategori)\n",
        "# dataset dengan kolom yang sudah dihapus tadi kemudian disimpan di dataframe baru (df baru)\n"
      ],
      "metadata": {
        "id": "dr9RJsatR35G"
      },
      "execution_count": null,
      "outputs": []
    },
    {
      "cell_type": "code",
      "source": [
        "# Buatlah sebuah fungsi naive bayes dengan ketentuan\n",
        "# Mengambil data dari dataframe yang telah diproses pada blok sebelumnya (diatas)\n",
        "# Nama fungsinya adalah naive_bayes\n",
        "# Mengambil 1 saja parameter yaitu sebuah list berisi kategori\n",
        "\n",
        "# Outputnya berupa prediksi Attrited Customer atau Existing Customer\n",
        "# Outputnya berupa tuple (_hasilnya, persentasenya berapa) contoh (Existing Customer, 0.004)\n",
        "\n",
        "# Tidak boleh menggunakan library manapun selain pandas dan numpy\n",
        "\n",
        "\n",
        "\n",
        "# contoh\n",
        "# def naive_bayes(prediksi:list)-> tuple :\n",
        "#   ........\n",
        "\n",
        "# jadi nanti saat saya coba masukan data \n",
        "# naive_bayes([\"F\",\t\"Uneducated\",\"Single\", \"Unknown\tBlue\"]) akan keluar tuple berupa (\"Attired Customer\", 0.002)\n"
      ],
      "metadata": {
        "id": "2EgdoQwHSasF"
      },
      "execution_count": null,
      "outputs": []
    },
    {
      "cell_type": "code",
      "source": [
        "df_baru = df.drop(['Unnamed: 0', 'CLIENTNUM', 'Customer_Age', 'Credit_Limit'], axis=1)\n",
        "\n",
        "df_baru"
      ],
      "metadata": {
        "colab": {
          "base_uri": "https://localhost:8080/",
          "height": 676
        },
        "id": "qRxzSjchNGSl",
        "outputId": "5d4224f3-f729-4c58-fc4d-f1810ad470ee"
      },
      "execution_count": 74,
      "outputs": [
        {
          "output_type": "execute_result",
          "data": {
            "text/plain": [
              "       Attrition_Flag Gender Education_Level Marital_Status Income_Category  \\\n",
              "0   Attrited Customer      M         Unknown         Single     $40K - $60K   \n",
              "1   Attrited Customer      M      Uneducated        Married     $60K - $80K   \n",
              "2   Attrited Customer      M         College         Single    $80K - $120K   \n",
              "3   Attrited Customer      M     High School        Unknown         $120K +   \n",
              "4   Attrited Customer      F        Graduate         Single  Less than $40K   \n",
              "5   Attrited Customer      M   Post-Graduate        Unknown    $80K - $120K   \n",
              "6   Attrited Customer      M     High School         Single     $60K - $80K   \n",
              "7   Attrited Customer      F        Graduate         Single  Less than $40K   \n",
              "8   Attrited Customer      F      Uneducated        Married         Unknown   \n",
              "9   Attrited Customer      M         Unknown         Single    $80K - $120K   \n",
              "10  Existing Customer      M       Doctorate         Single     $60K - $80K   \n",
              "11  Existing Customer      M      Uneducated        Married    $80K - $120K   \n",
              "12  Existing Customer      F     High School        Married         Unknown   \n",
              "13  Existing Customer      M      Uneducated         Single     $60K - $80K   \n",
              "14  Existing Customer      F      Uneducated         Single         Unknown   \n",
              "15  Existing Customer      F        Graduate        Married  Less than $40K   \n",
              "16  Existing Customer      F        Graduate        Married  Less than $40K   \n",
              "17  Existing Customer      F     High School         Single  Less than $40K   \n",
              "18  Existing Customer      M        Graduate         Single     $60K - $80K   \n",
              "19  Existing Customer      F   Post-Graduate        Married         Unknown   \n",
              "\n",
              "   Card_Category  \n",
              "0           Blue  \n",
              "1           Blue  \n",
              "2           Blue  \n",
              "3           Blue  \n",
              "4           Blue  \n",
              "5           Blue  \n",
              "6           Blue  \n",
              "7           Blue  \n",
              "8           Blue  \n",
              "9           Blue  \n",
              "10          Blue  \n",
              "11          Blue  \n",
              "12          Blue  \n",
              "13          Blue  \n",
              "14          Blue  \n",
              "15          Blue  \n",
              "16          Blue  \n",
              "17          Blue  \n",
              "18          Blue  \n",
              "19          Blue  "
            ],
            "text/html": [
              "\n",
              "  <div id=\"df-4bf36438-fdd0-4a6f-8f35-776a3e96d839\">\n",
              "    <div class=\"colab-df-container\">\n",
              "      <div>\n",
              "<style scoped>\n",
              "    .dataframe tbody tr th:only-of-type {\n",
              "        vertical-align: middle;\n",
              "    }\n",
              "\n",
              "    .dataframe tbody tr th {\n",
              "        vertical-align: top;\n",
              "    }\n",
              "\n",
              "    .dataframe thead th {\n",
              "        text-align: right;\n",
              "    }\n",
              "</style>\n",
              "<table border=\"1\" class=\"dataframe\">\n",
              "  <thead>\n",
              "    <tr style=\"text-align: right;\">\n",
              "      <th></th>\n",
              "      <th>Attrition_Flag</th>\n",
              "      <th>Gender</th>\n",
              "      <th>Education_Level</th>\n",
              "      <th>Marital_Status</th>\n",
              "      <th>Income_Category</th>\n",
              "      <th>Card_Category</th>\n",
              "    </tr>\n",
              "  </thead>\n",
              "  <tbody>\n",
              "    <tr>\n",
              "      <th>0</th>\n",
              "      <td>Attrited Customer</td>\n",
              "      <td>M</td>\n",
              "      <td>Unknown</td>\n",
              "      <td>Single</td>\n",
              "      <td>$40K - $60K</td>\n",
              "      <td>Blue</td>\n",
              "    </tr>\n",
              "    <tr>\n",
              "      <th>1</th>\n",
              "      <td>Attrited Customer</td>\n",
              "      <td>M</td>\n",
              "      <td>Uneducated</td>\n",
              "      <td>Married</td>\n",
              "      <td>$60K - $80K</td>\n",
              "      <td>Blue</td>\n",
              "    </tr>\n",
              "    <tr>\n",
              "      <th>2</th>\n",
              "      <td>Attrited Customer</td>\n",
              "      <td>M</td>\n",
              "      <td>College</td>\n",
              "      <td>Single</td>\n",
              "      <td>$80K - $120K</td>\n",
              "      <td>Blue</td>\n",
              "    </tr>\n",
              "    <tr>\n",
              "      <th>3</th>\n",
              "      <td>Attrited Customer</td>\n",
              "      <td>M</td>\n",
              "      <td>High School</td>\n",
              "      <td>Unknown</td>\n",
              "      <td>$120K +</td>\n",
              "      <td>Blue</td>\n",
              "    </tr>\n",
              "    <tr>\n",
              "      <th>4</th>\n",
              "      <td>Attrited Customer</td>\n",
              "      <td>F</td>\n",
              "      <td>Graduate</td>\n",
              "      <td>Single</td>\n",
              "      <td>Less than $40K</td>\n",
              "      <td>Blue</td>\n",
              "    </tr>\n",
              "    <tr>\n",
              "      <th>5</th>\n",
              "      <td>Attrited Customer</td>\n",
              "      <td>M</td>\n",
              "      <td>Post-Graduate</td>\n",
              "      <td>Unknown</td>\n",
              "      <td>$80K - $120K</td>\n",
              "      <td>Blue</td>\n",
              "    </tr>\n",
              "    <tr>\n",
              "      <th>6</th>\n",
              "      <td>Attrited Customer</td>\n",
              "      <td>M</td>\n",
              "      <td>High School</td>\n",
              "      <td>Single</td>\n",
              "      <td>$60K - $80K</td>\n",
              "      <td>Blue</td>\n",
              "    </tr>\n",
              "    <tr>\n",
              "      <th>7</th>\n",
              "      <td>Attrited Customer</td>\n",
              "      <td>F</td>\n",
              "      <td>Graduate</td>\n",
              "      <td>Single</td>\n",
              "      <td>Less than $40K</td>\n",
              "      <td>Blue</td>\n",
              "    </tr>\n",
              "    <tr>\n",
              "      <th>8</th>\n",
              "      <td>Attrited Customer</td>\n",
              "      <td>F</td>\n",
              "      <td>Uneducated</td>\n",
              "      <td>Married</td>\n",
              "      <td>Unknown</td>\n",
              "      <td>Blue</td>\n",
              "    </tr>\n",
              "    <tr>\n",
              "      <th>9</th>\n",
              "      <td>Attrited Customer</td>\n",
              "      <td>M</td>\n",
              "      <td>Unknown</td>\n",
              "      <td>Single</td>\n",
              "      <td>$80K - $120K</td>\n",
              "      <td>Blue</td>\n",
              "    </tr>\n",
              "    <tr>\n",
              "      <th>10</th>\n",
              "      <td>Existing Customer</td>\n",
              "      <td>M</td>\n",
              "      <td>Doctorate</td>\n",
              "      <td>Single</td>\n",
              "      <td>$60K - $80K</td>\n",
              "      <td>Blue</td>\n",
              "    </tr>\n",
              "    <tr>\n",
              "      <th>11</th>\n",
              "      <td>Existing Customer</td>\n",
              "      <td>M</td>\n",
              "      <td>Uneducated</td>\n",
              "      <td>Married</td>\n",
              "      <td>$80K - $120K</td>\n",
              "      <td>Blue</td>\n",
              "    </tr>\n",
              "    <tr>\n",
              "      <th>12</th>\n",
              "      <td>Existing Customer</td>\n",
              "      <td>F</td>\n",
              "      <td>High School</td>\n",
              "      <td>Married</td>\n",
              "      <td>Unknown</td>\n",
              "      <td>Blue</td>\n",
              "    </tr>\n",
              "    <tr>\n",
              "      <th>13</th>\n",
              "      <td>Existing Customer</td>\n",
              "      <td>M</td>\n",
              "      <td>Uneducated</td>\n",
              "      <td>Single</td>\n",
              "      <td>$60K - $80K</td>\n",
              "      <td>Blue</td>\n",
              "    </tr>\n",
              "    <tr>\n",
              "      <th>14</th>\n",
              "      <td>Existing Customer</td>\n",
              "      <td>F</td>\n",
              "      <td>Uneducated</td>\n",
              "      <td>Single</td>\n",
              "      <td>Unknown</td>\n",
              "      <td>Blue</td>\n",
              "    </tr>\n",
              "    <tr>\n",
              "      <th>15</th>\n",
              "      <td>Existing Customer</td>\n",
              "      <td>F</td>\n",
              "      <td>Graduate</td>\n",
              "      <td>Married</td>\n",
              "      <td>Less than $40K</td>\n",
              "      <td>Blue</td>\n",
              "    </tr>\n",
              "    <tr>\n",
              "      <th>16</th>\n",
              "      <td>Existing Customer</td>\n",
              "      <td>F</td>\n",
              "      <td>Graduate</td>\n",
              "      <td>Married</td>\n",
              "      <td>Less than $40K</td>\n",
              "      <td>Blue</td>\n",
              "    </tr>\n",
              "    <tr>\n",
              "      <th>17</th>\n",
              "      <td>Existing Customer</td>\n",
              "      <td>F</td>\n",
              "      <td>High School</td>\n",
              "      <td>Single</td>\n",
              "      <td>Less than $40K</td>\n",
              "      <td>Blue</td>\n",
              "    </tr>\n",
              "    <tr>\n",
              "      <th>18</th>\n",
              "      <td>Existing Customer</td>\n",
              "      <td>M</td>\n",
              "      <td>Graduate</td>\n",
              "      <td>Single</td>\n",
              "      <td>$60K - $80K</td>\n",
              "      <td>Blue</td>\n",
              "    </tr>\n",
              "    <tr>\n",
              "      <th>19</th>\n",
              "      <td>Existing Customer</td>\n",
              "      <td>F</td>\n",
              "      <td>Post-Graduate</td>\n",
              "      <td>Married</td>\n",
              "      <td>Unknown</td>\n",
              "      <td>Blue</td>\n",
              "    </tr>\n",
              "  </tbody>\n",
              "</table>\n",
              "</div>\n",
              "      <button class=\"colab-df-convert\" onclick=\"convertToInteractive('df-4bf36438-fdd0-4a6f-8f35-776a3e96d839')\"\n",
              "              title=\"Convert this dataframe to an interactive table.\"\n",
              "              style=\"display:none;\">\n",
              "        \n",
              "  <svg xmlns=\"http://www.w3.org/2000/svg\" height=\"24px\"viewBox=\"0 0 24 24\"\n",
              "       width=\"24px\">\n",
              "    <path d=\"M0 0h24v24H0V0z\" fill=\"none\"/>\n",
              "    <path d=\"M18.56 5.44l.94 2.06.94-2.06 2.06-.94-2.06-.94-.94-2.06-.94 2.06-2.06.94zm-11 1L8.5 8.5l.94-2.06 2.06-.94-2.06-.94L8.5 2.5l-.94 2.06-2.06.94zm10 10l.94 2.06.94-2.06 2.06-.94-2.06-.94-.94-2.06-.94 2.06-2.06.94z\"/><path d=\"M17.41 7.96l-1.37-1.37c-.4-.4-.92-.59-1.43-.59-.52 0-1.04.2-1.43.59L10.3 9.45l-7.72 7.72c-.78.78-.78 2.05 0 2.83L4 21.41c.39.39.9.59 1.41.59.51 0 1.02-.2 1.41-.59l7.78-7.78 2.81-2.81c.8-.78.8-2.07 0-2.86zM5.41 20L4 18.59l7.72-7.72 1.47 1.35L5.41 20z\"/>\n",
              "  </svg>\n",
              "      </button>\n",
              "      \n",
              "  <style>\n",
              "    .colab-df-container {\n",
              "      display:flex;\n",
              "      flex-wrap:wrap;\n",
              "      gap: 12px;\n",
              "    }\n",
              "\n",
              "    .colab-df-convert {\n",
              "      background-color: #E8F0FE;\n",
              "      border: none;\n",
              "      border-radius: 50%;\n",
              "      cursor: pointer;\n",
              "      display: none;\n",
              "      fill: #1967D2;\n",
              "      height: 32px;\n",
              "      padding: 0 0 0 0;\n",
              "      width: 32px;\n",
              "    }\n",
              "\n",
              "    .colab-df-convert:hover {\n",
              "      background-color: #E2EBFA;\n",
              "      box-shadow: 0px 1px 2px rgba(60, 64, 67, 0.3), 0px 1px 3px 1px rgba(60, 64, 67, 0.15);\n",
              "      fill: #174EA6;\n",
              "    }\n",
              "\n",
              "    [theme=dark] .colab-df-convert {\n",
              "      background-color: #3B4455;\n",
              "      fill: #D2E3FC;\n",
              "    }\n",
              "\n",
              "    [theme=dark] .colab-df-convert:hover {\n",
              "      background-color: #434B5C;\n",
              "      box-shadow: 0px 1px 3px 1px rgba(0, 0, 0, 0.15);\n",
              "      filter: drop-shadow(0px 1px 2px rgba(0, 0, 0, 0.3));\n",
              "      fill: #FFFFFF;\n",
              "    }\n",
              "  </style>\n",
              "\n",
              "      <script>\n",
              "        const buttonEl =\n",
              "          document.querySelector('#df-4bf36438-fdd0-4a6f-8f35-776a3e96d839 button.colab-df-convert');\n",
              "        buttonEl.style.display =\n",
              "          google.colab.kernel.accessAllowed ? 'block' : 'none';\n",
              "\n",
              "        async function convertToInteractive(key) {\n",
              "          const element = document.querySelector('#df-4bf36438-fdd0-4a6f-8f35-776a3e96d839');\n",
              "          const dataTable =\n",
              "            await google.colab.kernel.invokeFunction('convertToInteractive',\n",
              "                                                     [key], {});\n",
              "          if (!dataTable) return;\n",
              "\n",
              "          const docLinkHtml = 'Like what you see? Visit the ' +\n",
              "            '<a target=\"_blank\" href=https://colab.research.google.com/notebooks/data_table.ipynb>data table notebook</a>'\n",
              "            + ' to learn more about interactive tables.';\n",
              "          element.innerHTML = '';\n",
              "          dataTable['output_type'] = 'display_data';\n",
              "          await google.colab.output.renderOutput(dataTable, element);\n",
              "          const docLink = document.createElement('div');\n",
              "          docLink.innerHTML = docLinkHtml;\n",
              "          element.appendChild(docLink);\n",
              "        }\n",
              "      </script>\n",
              "    </div>\n",
              "  </div>\n",
              "  "
            ]
          },
          "metadata": {},
          "execution_count": 74
        }
      ]
    },
    {
      "cell_type": "code",
      "source": [
        "# definisikan fungsi naive_bayes\n",
        "def naive_bayes(kategori):\n",
        "    total = len(df_baru)\n",
        "# Menghitung jumlah data pada kolom 'Attrition_Flag' (target) yang merupakan 'Existing Customer' dan 'Attrited Customer'.\n",
        "    target_counts = df_baru['Attrition_Flag'].value_counts()\n",
        "    existing_count = target_counts['Existing Customer']\n",
        "    attrited_count = target_counts['Attrited Customer']\n",
        "\n",
        "    existing_likelihood = 1\n",
        "    attrited_likelihood = 1\n",
        "\n",
        "# Melakukan iterasi pada setiap item pada dictionary kategori yang merupakan variabel-variabel yang digunakan sebagai feature.\n",
        "    for key, value in kategori.items():\n",
        "        existing_likelihood *= (len(df_baru[(df_baru[key] == value) & (df_baru['Attrition_Flag'] == 'Existing Customer')]) / existing_count)\n",
        "        attrited_likelihood *= (len(df_baru[(df_baru[key] == value) & (df_baru['Attrition_Flag'] == 'Attrited Customer')]) / attrited_count)\n",
        "\n",
        "# Menghitung likelihood dari kategori 'Existing Customer dan Attrited Customer' pada feature tertentu.\n",
        "    existing_posterior = existing_likelihood * (existing_count / total)\n",
        "    attrited_posterior = attrited_likelihood * (attrited_count / total)\n",
        "\n",
        "# Membandingkan nilai posterior probability dari masing-masing kategori dan mengembalikan hasil prediksi dan nilai posterior probability yang lebih tinggi.\n",
        "    if existing_posterior > attrited_posterior:\n",
        "        return ('Existing Customer', round(existing_posterior, 3))\n",
        "    else:\n",
        "        return ('Attrited Customer', round(attrited_posterior, 3))"
      ],
      "metadata": {
        "id": "3LIFhjBDNZYu"
      },
      "execution_count": 75,
      "outputs": []
    },
    {
      "cell_type": "code",
      "source": [
        "hasil = naive_bayes({'Gender': 'M', 'Education_Level': 'High School', 'Marital_Status' : 'Married', 'Income_Category' : '$80K - $120K', 'Card_Category' : 'Blue'})\n",
        "\n",
        "hasil"
      ],
      "metadata": {
        "colab": {
          "base_uri": "https://localhost:8080/"
        },
        "id": "EOzMrF7FNds7",
        "outputId": "aa00247c-97b4-43a2-9f27-9c18e9d251dd"
      },
      "execution_count": 76,
      "outputs": [
        {
          "output_type": "execute_result",
          "data": {
            "text/plain": [
              "('Attrited Customer', 0.004)"
            ]
          },
          "metadata": {},
          "execution_count": 76
        }
      ]
    }
  ]
}